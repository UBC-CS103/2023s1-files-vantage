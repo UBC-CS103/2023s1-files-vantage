{
 "cells": [
  {
   "cell_type": "code",
   "execution_count": 2,
   "metadata": {},
   "outputs": [],
   "source": [
    "from cs103 import *"
   ]
  },
  {
   "cell_type": "markdown",
   "metadata": {},
   "source": [
    "# Module 2 Lecture Notes\n",
    "\n",
    "Here is a summary of our How to Design Functions Recipe:\n",
    "\n",
    "1. Write the stub, including:\n",
    "   1. the typecheck annotation,\n",
    "   2. signature,\n",
    "   3. purpose, and \n",
    "   4. the body of the stub.\n",
    "2. Write examples/tests\n",
    "2a. RUN the examples/tests\n",
    "2b. comment out the body of the stub\n",
    "3. Write or copy the template\n",
    "4. Code the function body\n",
    "5. Test and debug until correct"
   ]
  },
  {
   "cell_type": "markdown",
   "metadata": {},
   "source": [
    "## `meets_expectations` Quiz Problem\n",
    "\n",
    "Let's revisit the steps of: **Design a function that takes a string and determines whether or not it meets expectations. By expectations, we mean the word is a palindrome and is at least 5 characters long (i.e., there are at least 5 letters in the word). A palindrome is a word or phrase that reads the same backwards and forwards (e.g., level).**"
   ]
  },
  {
   "cell_type": "code",
   "execution_count": 11,
   "metadata": {},
   "outputs": [
    {
     "name": "stdout",
     "output_type": "stream",
     "text": [
      "\u001b[92m5 of 5 tests passed\u001b[0m\n"
     ]
    }
   ],
   "source": [
    "# Design meets_expectations here.\n",
    "# We already included the signature, TWO possible purposes, and a stub.\n",
    "# We still need: tests/examples, template comment, and body.\n",
    "# Hint: 'hello'[::-1] is a way for you to reverse 'hello' to 'olleh'\n",
    "\n",
    "@typecheck\n",
    "def meets_expectations(word: str) -> bool:\n",
    "    \"\"\"\n",
    "    return True if the word is a palindrome with at least five characters, and False otherwise\n",
    "    \"\"\"\n",
    "    #return True  #stub\n",
    "    return word[::-1] == word and len(word) >= 5\n",
    "    \n",
    "    \n",
    "# Starting point for any set of tests/examples:\n",
    "start_testing()\n",
    "expect(meets_expectations(\"it\"), False)\n",
    "expect(meets_expectations(\"ava\"), False)\n",
    "expect(meets_expectations(\"level\"), True)\n",
    "expect(meets_expectations(\"hannah\"), True)\n",
    "expect(meets_expectations(\"elephant\"), False)\n",
    "summary()"
   ]
  },
  {
   "cell_type": "markdown",
   "metadata": {},
   "source": [
    "## CPSC 103 d-tective 😜\n",
    "\n",
    "**Problem:** Design a function that determines if a string starts with\n",
    "the letter *d*."
   ]
  },
  {
   "cell_type": "code",
   "execution_count": 16,
   "metadata": {},
   "outputs": [
    {
     "name": "stdout",
     "output_type": "stream",
     "text": [
      "\u001b[92m4 of 4 tests passed\u001b[0m\n"
     ]
    }
   ],
   "source": [
    "@typecheck\n",
    "def starts_with_d(text: str) -> bool:\n",
    "    \"\"\"\n",
    "    return True if text starts with d, False otherwise\n",
    "    \"\"\"\n",
    "    #return False     # stub\n",
    "    #return ...(text) # template\n",
    "    return text[0] == 'd' or text[0] == 'D' \n",
    "\n",
    "start_testing()\n",
    "expect(starts_with_d(\"detective\"), True)\n",
    "expect(starts_with_d(\"false\"), False)\n",
    "expect(starts_with_d(\"learned\"), False)\n",
    "expect(starts_with_d(\"Drive\"), True)\n",
    "summary()"
   ]
  },
  {
   "cell_type": "code",
   "execution_count": null,
   "metadata": {},
   "outputs": [],
   "source": []
  }
 ],
 "metadata": {
  "kernelspec": {
   "display_name": "Python 3",
   "language": "python",
   "name": "python3"
  },
  "language_info": {
   "codemirror_mode": {
    "name": "ipython",
    "version": 3
   },
   "file_extension": ".py",
   "mimetype": "text/x-python",
   "name": "python",
   "nbconvert_exporter": "python",
   "pygments_lexer": "ipython3",
   "version": "3.8.5"
  }
 },
 "nbformat": 4,
 "nbformat_minor": 4
}
