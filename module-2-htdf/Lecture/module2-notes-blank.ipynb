{
 "cells": [
  {
   "cell_type": "code",
   "execution_count": null,
   "metadata": {},
   "outputs": [],
   "source": [
    "from cs103 import *"
   ]
  },
  {
   "cell_type": "markdown",
   "metadata": {},
   "source": [
    "# Module 2 Lecture Notes\n",
    "\n",
    "Here is a summary of our How to Design Functions Recipe:\n",
    "\n",
    "1. Write the stub, including:\n",
    "   1. the typecheck annotation,\n",
    "   2. signature,\n",
    "   3. purpose, and \n",
    "   4. the body of the stub.\n",
    "2. Write examples/tests\n",
    "3. Write or copy the template\n",
    "4. Code the function body\n",
    "5. Test and debug until correct"
   ]
  },
  {
   "cell_type": "markdown",
   "metadata": {},
   "source": [
    "## `meets_expectations` Quiz Problem\n",
    "\n",
    "Let's revisit the steps of: **Design a function that takes a string and determines whether or not it meets expectations. By expectations, we mean the word is a palindrome and is at least 5 characters long (i.e., there are at least 5 letters in the word). A palindrome is a word or phrase that reads the same backwards and forwards (e.g., level).**"
   ]
  },
  {
   "cell_type": "code",
   "execution_count": null,
   "metadata": {},
   "outputs": [],
   "source": [
    "# Design meets_expectations here.\n",
    "# We already included the signature, TWO possible purposes, and a stub.\n",
    "# We still need: tests/examples, template comment, and body.\n",
    "# Hint: 'hello'[::-1] is a way for you to reverse 'hello' to 'olleh'\n",
    "\n",
    "@typecheck\n",
    "def meets_expectations(word: str) -> bool:\n",
    "    # Should the purpose be:\n",
    "    \"\"\"\n",
    "    return True if the word is a palindrome with at least five characters, and False otherwise\n",
    "    \"\"\"\n",
    "    # Or:\n",
    "    \"\"\"\n",
    "    return True if the word meets our requirements \n",
    "    \"\"\"\n",
    "    return True  #stub\n",
    "\n",
    "    \n",
    "    \n",
    "# Starting point for any set of tests/examples:\n",
    "start_testing()\n",
    "expect(..., ...)\n",
    "summary()"
   ]
  },
  {
   "cell_type": "markdown",
   "metadata": {},
   "source": [
    "## The Worksheet \"multiply a number by 4\" Problem\n",
    "\n",
    "We'll work through these to get more practice with the recipe and to explain what we mean by the wording of these problems on the worksheet!\n",
    "\n",
    "The overarching problem is: **Design a function that multiplies a number by 4.**"
   ]
  },
  {
   "cell_type": "markdown",
   "metadata": {},
   "source": [
    "### \"circle the best signature and why you chose it\"\n",
    "1. `float -> 4*float`\n",
    "1. `number -> number`\n",
    "1. `float, float -> float`\n",
    "1. `float -> float`\n",
    "\n",
    "### \"Why is that the best signature?\""
   ]
  },
  {
   "cell_type": "markdown",
   "metadata": {},
   "source": [
    "### \"What is the second-best response or explain why there is none? Is that second-best response good enough to be an acceptable design?\""
   ]
  },
  {
   "cell_type": "markdown",
   "metadata": {},
   "source": [
    "### \"Write a clear and succinct purpose\""
   ]
  },
  {
   "cell_type": "markdown",
   "metadata": {},
   "source": [
    "### \"Match [the design] with an appropriate stub body\"\n",
    "\n",
    "We're working on `def times_four(x):`\n",
    "\n",
    "Here are the options:\n",
    "+ `return False`\n",
    "+ `return radius`\n",
    "+ `return x`\n",
    "+ `return colour`\n",
    "+ `return square(1, 'solid', 'white')`"
   ]
  },
  {
   "cell_type": "markdown",
   "metadata": {},
   "source": [
    "## CPSC 103 d-tective 😜\n",
    "\n",
    "**Problem:** Design a function that determines if a string starts with\n",
    "the letter *d*."
   ]
  },
  {
   "cell_type": "code",
   "execution_count": null,
   "metadata": {},
   "outputs": [],
   "source": [
    "# Let's put our answer here!\n",
    "\n"
   ]
  }
 ],
 "metadata": {
  "kernelspec": {
   "display_name": "Python 3 (ipykernel)",
   "language": "python",
   "name": "python3"
  },
  "language_info": {
   "codemirror_mode": {
    "name": "ipython",
    "version": 3
   },
   "file_extension": ".py",
   "mimetype": "text/x-python",
   "name": "python",
   "nbconvert_exporter": "python",
   "pygments_lexer": "ipython3",
   "version": "3.10.9"
  }
 },
 "nbformat": 4,
 "nbformat_minor": 4
}
