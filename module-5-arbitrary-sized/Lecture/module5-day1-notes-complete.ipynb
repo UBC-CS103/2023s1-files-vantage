{
 "cells": [
  {
   "cell_type": "code",
   "execution_count": 8,
   "metadata": {},
   "outputs": [],
   "source": [
    "from cs103 import *\n",
    "from typing import List"
   ]
  },
  {
   "cell_type": "markdown",
   "metadata": {},
   "source": [
    "## Designing a data definition for a list of integers\n",
    "\n",
    "**Problem:** design a data definition for a list of integers.\n",
    "\n",
    "Once we've learned how to design other data definitions and realize that a data definition for a particular problem needs to be a list, these tend to be fairly straightforward to complete. Let's practice one quickly today.\n",
    "\n",
    "Next class, we'll see how things change (for lists, optionals, and compounds!) when a data definition we create refers to another data definition we created!"
   ]
  },
  {
   "cell_type": "code",
   "execution_count": 9,
   "metadata": {},
   "outputs": [],
   "source": [
    "# TODO: design a data definition for a list of integers\n",
    "# List[int]\n",
    "# interp. a list of integers\n",
    "L0 = []\n",
    "L1 = [1, 2, 8, -11]\n",
    "\n",
    "@typecheck\n",
    "# template based on arbitary-sized\n",
    "def fn_for_loi(loi: List[int]) -> ...:\n",
    "    # description of the accumulator\n",
    "    acc = ...      # type: ...\n",
    "    for i in loi:\n",
    "        acc = ...(i, acc)\n",
    "    return ...(acc)\n"
   ]
  },
  {
   "cell_type": "markdown",
   "metadata": {},
   "source": [
    "## Fun with a Large-ish Information Set\n",
    "\n",
    "The data below represents the length of episodes from a TV show in minutes. We have examples for only one episode of a show (Friends), a full season of a show (Game of Thrones), and a whole show (The Good Place)."
   ]
  },
  {
   "cell_type": "code",
   "execution_count": 2,
   "metadata": {},
   "outputs": [],
   "source": [
    "from cs103 import *\n",
    "from typing import List\n",
    "\n",
    "EpisodeDurations = List[float] # in range [0, ...]\n",
    "# interp. the duration of episodes in minutes for some number of episodes of a TV Show\n",
    "\n",
    "ED0 = []\n",
    "ED_FRIENDS_S01E01 = [22.8]\n",
    "ED_GAME_OF_THRONES_S01 = [61.62, 55.28, 57.23, 55.62, 54.27, 52.6, 57.79, 58.13, 56.27, 52.62]\n",
    "ED_GOOD_PLACE = [\n",
    "    26.27, 21.50, 24.90, 22.55, 26.30, 26.35, 24.23, 25.23, 24.88, 23.78, \n",
    "    26.62, 21.53, 26.88, 42.68, 21.60, 23.92, 25.37, 24.65, 23.28, 23.72, \n",
    "    21.60, 24.78, 22.77, 23.47, 24.33, 21.60, 21.55, 21.60, 21.60, 21.60, \n",
    "    21.53, 21.55, 21.53, 21.53, 22.53, 21.53, 21.53, 21.53, 22.42, 21.40, \n",
    "    21.42, 21.43, 21.43, 21.42, 21.42, 21.40, 21.42, 21.42, 21.45, 21.43, \n",
    "    52.48\n",
    "]\n",
    "\n",
    "# template based on arbitrary-sized\n",
    "@typecheck\n",
    "def fn_for_ed(ed: EpisodeDurations) -> ...:\n",
    "    # description of the accumulator\n",
    "    acc = ...   # type: ...\n",
    "\n",
    "    for duration in ed:\n",
    "        acc = ...(duration, acc)\n",
    "\n",
    "    return ...(acc)"
   ]
  },
  {
   "cell_type": "markdown",
   "metadata": {},
   "source": [
    "Now, let's design a function that finds the average duration (in minutes) of all episodes in an `EpisodeDurations`.\n",
    "\n",
    "We're going to end up using multiple accumulators in this design. Template functions in data definitions give you code that *may* be useful to you, but you might decide not to use some pieces, to add or duplicate pieces, or to insert into the template code that isn't suggested by the template at all. For the list template, the accumulator is a suggestion: you may not need one, you may need one, or in rare cases where you're tracking multiple different evolving pieces of information through the loop, you may need multiple!"
   ]
  },
  {
   "cell_type": "code",
   "execution_count": 3,
   "metadata": {},
   "outputs": [
    {
     "name": "stdout",
     "output_type": "stream",
     "text": [
      "\u001b[92m5 of 5 tests passed\u001b[0m\n"
     ]
    }
   ],
   "source": [
    "# We've completed signature, purpose, stub, and examples.\n",
    "# Let's continue from there!\n",
    "\n",
    "@typecheck\n",
    "def avg_episode_duration(ed: EpisodeDurations) -> float:\n",
    "    \"\"\"\n",
    "    Return the average duration (in minutes) of the episodes in ed.\n",
    "    \n",
    "    (The average duration of zero episodes is returned as 0.)\n",
    "    \"\"\"\n",
    "    #return 0.0  #stub\n",
    "    \n",
    "    # template from EpisodeDurations\n",
    "    # count of episodes in ed seen so far\n",
    "    count = 0   # type: int\n",
    "    # total duration (sum) of episodes in ed seen so far\n",
    "    total_duration = 0   # type: float\n",
    "\n",
    "    for duration in ed:\n",
    "        count = count + 1\n",
    "        total_duration = duration + total_duration\n",
    "\n",
    "    if count == 0:\n",
    "        return 0.0\n",
    "    else:\n",
    "        return total_duration/count\n",
    "\n",
    "start_testing()\n",
    "\n",
    "expect(avg_episode_duration([]), 0.0)\n",
    "expect(avg_episode_duration([1, 1, 1, 1, 1]), 1)\n",
    "expect(avg_episode_duration([100.12, 12.1]), (100.12+12.1)/2)\n",
    "expect(avg_episode_duration(ED_GAME_OF_THRONES_S01), (61.62+55.28+57.23+55.62+54.27+52.6+57.79+58.13+56.27+52.62)/10)\n",
    "expect(avg_episode_duration(ED_FRIENDS_S01E01), 22.8)\n",
    "\n",
    "summary()"
   ]
  },
  {
   "cell_type": "code",
   "execution_count": 4,
   "metadata": {},
   "outputs": [
    {
     "data": {
      "text/plain": [
       "'The Good Place is the smartest, dumbest 23.822352941176472 minutes on television.'"
      ]
     },
     "execution_count": 4,
     "metadata": {},
     "output_type": "execute_result"
    }
   ],
   "source": [
    "# Now, what we all came here for; the average episode length of The Good Place:\n",
    "\"The Good Place is the smartest, dumbest \" + str(avg_episode_duration(ED_GOOD_PLACE)) + \" minutes on television.\""
   ]
  },
  {
   "cell_type": "markdown",
   "metadata": {},
   "source": [
    "## Try This at Home: Designing a Related Function with Accumulators\n",
    "\n",
    "Let's do one more example, this time designing a different but related function.\n",
    "\n",
    "Note that essentially *all* of your accumulators' descriptions will have the words \"in the list so far\" in them. That's what accumulators do: keep track of information about what we've seen in the list so far!)"
   ]
  },
  {
   "cell_type": "code",
   "execution_count": 5,
   "metadata": {},
   "outputs": [],
   "source": [
    "from typing import List\n",
    "\n",
    "# List[str]\n",
    "# interp. a list of strings\n",
    "LOS0 = []\n",
    "LOS2 = [\"hello\", \"goodbye\", \"Beatles\"]\n",
    "\n",
    "@typecheck\n",
    "# template based on arbitrary-sized\n",
    "def fn_for_los(los: List[str]) -> ...:\n",
    "    # description of the accumulator\n",
    "    acc = ...   # type: ...\n",
    "\n",
    "    for s in los:\n",
    "        acc = ...(s, acc)\n",
    "\n",
    "    return ...(acc)"
   ]
  },
  {
   "cell_type": "code",
   "execution_count": 6,
   "metadata": {},
   "outputs": [
    {
     "name": "stdout",
     "output_type": "stream",
     "text": [
      "\u001b[91mTest failed:\u001b[0m expected 1 but got 0\n",
      "    \u001b[1mLine 13: \u001b[0mexpect(count_UBCs([\"UBC\"]), 1)\n",
      "\u001b[91mTest failed:\u001b[0m expected 1 but got 0\n",
      "    \u001b[1mLine 14: \u001b[0mexpect(count_UBCs([\"McGill\", \"SFU\", \"UBC\", \"MIT\", \"Harvard\"]), 1)\n",
      "\u001b[91m3 of 5 tests passed\u001b[0m\n"
     ]
    }
   ],
   "source": [
    "@typecheck\n",
    "def count_UBCs(unis: List[str]) -> int:\n",
    "    \"\"\"\n",
    "    return the number of times that \"UBC\" appears in unis.\n",
    "    \"\"\"\n",
    "    return 0 #stub\n",
    "\n",
    "start_testing()\n",
    "\n",
    "# Here are all the same examples as in contains_ubc. Do we need any more?\n",
    "expect(count_UBCs([]), 0)\n",
    "expect(count_UBCs([\"UW\"]), 0)\n",
    "expect(count_UBCs([\"UBC\"]), 1)\n",
    "expect(count_UBCs([\"McGill\", \"SFU\", \"UBC\", \"MIT\", \"Harvard\"]), 1)\n",
    "expect(count_UBCs([\"McGill\", \"SFU\", \"MIT\", \"Harvard\"]), 0)\n",
    "\n",
    "summary()"
   ]
  },
  {
   "cell_type": "markdown",
   "metadata": {},
   "source": [
    "P.S. Here's a fun exercise: Redesign the function body of `contains_UBC` to call `count_UBCs`. \n",
    "Is `count_UBCs` helpful to implement `contains_UBC`? "
   ]
  },
  {
   "cell_type": "code",
   "execution_count": 7,
   "metadata": {},
   "outputs": [
    {
     "name": "stdout",
     "output_type": "stream",
     "text": [
      "\u001b[92m5 of 5 tests passed\u001b[0m\n"
     ]
    }
   ],
   "source": [
    "from cs103 import *\n",
    "\n",
    "@typecheck\n",
    "def contains_ubc(unis: List[str]) -> bool:\n",
    "    \"\"\"\n",
    "    return True if unis includes \"UBC\" else return False\n",
    "    \"\"\"\n",
    "    # return True #stub\n",
    "    # Template based on List[str]\n",
    "    for u in unis:\n",
    "        if u == \"UBC\":\n",
    "            # We've found UBC. So, we don't need to keep looking through\n",
    "            # the list unis. We already know the answer to return.\n",
    "            # Once you execute a return statement, you are done (no\n",
    "            # other line of code in the function body will execute after this).\n",
    "            return True\n",
    "    return False\n",
    "\n",
    "start_testing()\n",
    "\n",
    "expect(contains_ubc([]), False)\n",
    "expect(contains_ubc([\"UW\"]), False)\n",
    "expect(contains_ubc([\"UBC\"]), True)\n",
    "expect(contains_ubc([\"McGill\", \"SFU\", \"UBC\", \"MIT\", \"Harvard\"]), True)\n",
    "expect(contains_ubc([\"McGill\", \"SFU\", \"MIT\", \"Harvard\"]), False)\n",
    "\n",
    "summary()"
   ]
  }
 ],
 "metadata": {
  "kernelspec": {
   "display_name": "Python 3 (ipykernel)",
   "language": "python",
   "name": "python3"
  },
  "language_info": {
   "codemirror_mode": {
    "name": "ipython",
    "version": 3
   },
   "file_extension": ".py",
   "mimetype": "text/x-python",
   "name": "python",
   "nbconvert_exporter": "python",
   "pygments_lexer": "ipython3",
   "version": "3.10.9"
  }
 },
 "nbformat": 4,
 "nbformat_minor": 4
}
