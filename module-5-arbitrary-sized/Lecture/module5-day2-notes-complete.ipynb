{
 "cells": [
  {
   "cell_type": "markdown",
   "metadata": {},
   "source": [
    "## Announcements\n",
    "- Tutorial 2 and 3 resubmissions are open and due Sunday, June 4 at 10pm\n",
    "- The project proposal is due Sunday, June 4 at 10pm.\n",
    "- See canvas for a full list of upcoming due dates\n",
    "- Our midterm is on Tuesday, June 6 from 5-6:30pm in the ICCS building. See Piazza for information on how to resere a spot in one of the two rooms. Making a reservation is **mandatory**.\n",
    "- The midterm will cover up to and including Module 5. I will post more details to Piazza soon."
   ]
  },
  {
   "cell_type": "markdown",
   "metadata": {},
   "source": [
    "## Continuing the Board Game Example\n",
    "\n",
    "Recently, we designed a data definition for a board game. Now, we want to **find all the board games in a collection that are playable by a group with _p_ players**.\n",
    "\n",
    "How do we build on the previous design?"
   ]
  },
  {
   "cell_type": "code",
   "execution_count": 13,
   "metadata": {},
   "outputs": [],
   "source": [
    "# BoardGame data definition\n",
    "\n",
    "from typing import NamedTuple\n",
    "from cs103 import *\n",
    "\n",
    "BoardGame = NamedTuple('BoardGame', [('name', str),\n",
    "                                     ('designer', str),\n",
    "                                     ('num_players', int), # in range [1, ...)\n",
    "                                     ('min_age', int)])    # in range [0, ...)\n",
    "# interp. a board game with its name, designer's name, minimum number of\n",
    "#         players, and minimum age to play\n",
    "\n",
    "MONOPOLY = BoardGame('Monopoly', \n",
    "                     'Charles Darrow and Elizabeth J. Magie (Phillips)',\n",
    "                     2,\n",
    "                     8)\n",
    "POKER = BoardGame('Poker', \n",
    "                  'René Goscinny and Albert Uderzo',\n",
    "                  2, \n",
    "                  12)\n",
    "\n",
    "@typecheck\n",
    "# template based on compound (4 fields)\n",
    "def fn_for_board_game(bg: BoardGame) -> ...:\n",
    "    return ...(bg.name,\n",
    "               bg.designer,\n",
    "               bg.num_players,\n",
    "               bg.min_age)\n"
   ]
  },
  {
   "cell_type": "markdown",
   "metadata": {},
   "source": [
    "### How can we represent an arbitrary number of games?\n",
    "\n",
    "We will design a data definition for List[BoardGame]!"
   ]
  },
  {
   "cell_type": "code",
   "execution_count": 14,
   "metadata": {},
   "outputs": [],
   "source": [
    "from typing import List\n",
    "\n",
    "# List[BoardGame]\n",
    "# interp. a list of board games\n",
    "\n",
    "LOBG0 = []\n",
    "LOBG1 = [MONOPOLY, POKER]\n",
    "\n",
    "@typecheck\n",
    "# template based on arbitrary-sized and the reference rule\n",
    "def fn_for_lobg(lobg: List[BoardGame]) -> ...:\n",
    "    # description of the accumulator\n",
    "    acc = ... # type: ...\n",
    "    for bg in lobg:\n",
    "        acc = ...(fn_for_board_game(bg), acc)\n",
    "    return ...(acc)"
   ]
  },
  {
   "cell_type": "markdown",
   "metadata": {},
   "source": [
    "### Let's design a function that takes a List[BoardGame]\n",
    "\n",
    "Now, how do we proceed to design a function that finds all the games in a collection appropriate for p players?"
   ]
  },
  {
   "cell_type": "code",
   "execution_count": 15,
   "metadata": {},
   "outputs": [
    {
     "name": "stdout",
     "output_type": "stream",
     "text": [
      "\u001b[92m10 of 10 tests passed\u001b[0m\n"
     ]
    }
   ],
   "source": [
    "@typecheck\n",
    "def find_all_games_for_p(lobg: List[BoardGame], p: int) -> List[BoardGame]:\n",
    "    \"\"\"\n",
    "    return all the games in the collection that are appropriate \n",
    "    for p players\n",
    "    \"\"\"\n",
    "    #return lobg # stub\n",
    "    # template from List[BoardGame]\n",
    "    # board games appropriate for p players seen so far\n",
    "    acc = [] # type: List[BoardGame]\n",
    "    for bg in lobg:\n",
    "        if (playable_by_p(bg, p)):\n",
    "            acc.append(bg)\n",
    "    return acc\n",
    "\n",
    "@typecheck\n",
    "def playable_by_p(bg: BoardGame, p: int) -> bool:\n",
    "    \"\"\"\n",
    "    return True if bg can be played by p players, False otherwise\n",
    "    \"\"\"\n",
    "    #return False\n",
    "    # template from BoardGame with additional parameter\n",
    "    return p >= bg.num_players \n",
    "\n",
    "    \n",
    "start_testing()\n",
    "\n",
    "expect(find_all_games_for_p([], 2), [])\n",
    "expect(find_all_games_for_p([MONOPOLY, POKER], 2), [MONOPOLY, POKER])\n",
    "expect(find_all_games_for_p([MONOPOLY, POKER], 1), [])\n",
    "expect(find_all_games_for_p([POKER, \n",
    "                           BoardGame(\"Spades\", \"unknown\", 4, 8)],\n",
    "                          3),\n",
    "      [POKER])\n",
    "expect(find_all_games_for_p([POKER, \n",
    "                           BoardGame(\"Spades\", \"unknown\", 4, 8)],\n",
    "                          4),\n",
    "      [POKER, BoardGame(\"Spades\", \"unknown\", 4, 8)])\n",
    "\n",
    "expect(playable_by_p(BoardGame(\"Spades\", \"unknown\", 4, 8), 3), False)\n",
    "expect(playable_by_p(BoardGame(\"Spades\", \"unknown\", 4, 8), 4), True)\n",
    "expect(playable_by_p(BoardGame(\"Spades\", \"unknown\", 4, 8), 5), True)\n",
    "expect(playable_by_p(MONOPOLY, 3), True)\n",
    "expect(playable_by_p(MONOPOLY, 1), False)\n",
    "summary()"
   ]
  },
  {
   "cell_type": "markdown",
   "metadata": {},
   "source": [
    "### Games' Names\n",
    "\n",
    "Now, **design a function that returns the names of all the games in a collection**."
   ]
  },
  {
   "cell_type": "code",
   "execution_count": 16,
   "metadata": {},
   "outputs": [
    {
     "name": "stdout",
     "output_type": "stream",
     "text": [
      "\u001b[91mTest failed:\u001b[0m expected ['Gloomhaven', 'Bunny Bunny Moose Moose'] but got []\n",
      "    \u001b[1mLine 11: \u001b[0mexpect(get_game_names(LOBG1), ['Gloomhaven', 'Bunny Bunny Moose Moose'])\n",
      "\u001b[91m1 of 2 tests passed\u001b[0m\n"
     ]
    }
   ],
   "source": [
    "@typecheck\n",
    "def get_game_names(game_collection: List[BoardGame]) -> List[str]:\n",
    "    \"\"\"\n",
    "    returns a list of the names of the games in game_collection\n",
    "    \"\"\"\n",
    "    return []  #stub\n",
    "\n",
    "start_testing()\n",
    "\n",
    "expect(get_game_names([]), [])\n",
    "expect(get_game_names(LOBG1), ['Gloomhaven', 'Bunny Bunny Moose Moose'])\n",
    "summary()"
   ]
  },
  {
   "cell_type": "markdown",
   "metadata": {},
   "source": [
    "## Reference Rule Outside of Lists\n",
    "\n",
    "Lists can refer to other types defined in a data definition, but so can several other types of data. Specifically, Optionals and Compounds can refer to other data definitions. In those cases, you follow the same reference rule as with lists.\n",
    "\n",
    "Here's a series of problems to practice that:\n",
    "1. Design a data definition to represent an amount of money in dollars and cents. (Finished for you below, since it's not a particularly new/interesting problem for us!)\n",
    "2. Design a data definition to represent an item's listed price in a store, which an amount of money *or* the price may be unlisted (for certain items where there will be a negotiation around the price if it sold).\n",
    "3. Design a function to determine if you might be able to afford an item based on your amount of money and its price."
   ]
  },
  {
   "cell_type": "code",
   "execution_count": 17,
   "metadata": {},
   "outputs": [],
   "source": [
    "MoneyAmount = NamedTuple('MoneyAmount', [('dollars', int), # in range [0, ...)\n",
    "                                         ('cents', int)])  # in range [0, 99]\n",
    "# interp. an amount of money in dollars and cents.\n",
    "MA0 = MoneyAmount(0, 0)\n",
    "MA2_50 = MoneyAmount(2, 50)\n",
    "MA99_99 = MoneyAmount(99, 99)\n",
    "\n",
    "@typecheck\n",
    "# template based on compound (2 fields)\n",
    "def fn_for_money_amount(ma: MoneyAmount) -> ...:\n",
    "    return ...(ma.dollars,\n",
    "               ma.cents)"
   ]
  },
  {
   "cell_type": "code",
   "execution_count": 18,
   "metadata": {},
   "outputs": [],
   "source": [
    "# TODO: a price in a store, which may be unlisted."
   ]
  },
  {
   "cell_type": "code",
   "execution_count": 19,
   "metadata": {},
   "outputs": [
    {
     "ename": "TypeError",
     "evalue": "issubclass() arg 2 must be a class, a tuple of classes, or a union",
     "output_type": "error",
     "traceback": [
      "\u001b[0;31m---------------------------------------------------------------------------\u001b[0m",
      "\u001b[0;31mTypeError\u001b[0m                                 Traceback (most recent call last)",
      "Cell \u001b[0;32mIn[19], line 13\u001b[0m\n\u001b[1;32m     10\u001b[0m     \u001b[38;5;28;01mreturn\u001b[39;00m \u001b[38;5;28;01mTrue\u001b[39;00m  \u001b[38;5;66;03m#stub\u001b[39;00m\n\u001b[1;32m     12\u001b[0m start_testing()\n\u001b[0;32m---> 13\u001b[0m expect(\u001b[43mmight_buy\u001b[49m\u001b[43m(\u001b[49m\u001b[43mMoneyAmount\u001b[49m\u001b[43m(\u001b[49m\u001b[38;5;241;43m0\u001b[39;49m\u001b[43m,\u001b[49m\u001b[43m \u001b[49m\u001b[38;5;241;43m0\u001b[39;49m\u001b[43m)\u001b[49m\u001b[43m,\u001b[49m\u001b[43m \u001b[49m\u001b[38;5;241;43m.\u001b[39;49m\u001b[38;5;241;43m.\u001b[39;49m\u001b[38;5;241;43m.\u001b[39;49m\u001b[43m)\u001b[49m, \u001b[38;5;241m.\u001b[39m\u001b[38;5;241m.\u001b[39m\u001b[38;5;241m.\u001b[39m)\n\u001b[1;32m     14\u001b[0m summary()\n",
      "File \u001b[0;32m/opt/conda/lib/python3.10/site-packages/cs103/typecheck/typecheck.py:130\u001b[0m, in \u001b[0;36mtypecheck.<locals>.wrapper\u001b[0;34m(*args)\u001b[0m\n\u001b[1;32m    128\u001b[0m \u001b[38;5;28;01mfor\u001b[39;00m (name, val) \u001b[38;5;129;01min\u001b[39;00m \u001b[38;5;28mzip\u001b[39m(parm_names, args):\n\u001b[1;32m    129\u001b[0m     \u001b[38;5;28;01mif\u001b[39;00m name \u001b[38;5;129;01min\u001b[39;00m types:\n\u001b[0;32m--> 130\u001b[0m         \u001b[43msubtype\u001b[49m\u001b[43m(\u001b[49m\u001b[38;5;124;43m\"\u001b[39;49m\u001b[38;5;124;43mparameter \u001b[39;49m\u001b[38;5;132;43;01m%s\u001b[39;49;00m\u001b[38;5;124;43m\"\u001b[39;49m\u001b[43m \u001b[49m\u001b[38;5;241;43m%\u001b[39;49m\u001b[43m \u001b[49m\u001b[43mname\u001b[49m\u001b[43m,\u001b[49m\u001b[43m \u001b[49m\u001b[43mval\u001b[49m\u001b[43m,\u001b[49m\u001b[43m \u001b[49m\u001b[43mtypes\u001b[49m\u001b[43m[\u001b[49m\u001b[43mname\u001b[49m\u001b[43m]\u001b[49m\u001b[43m,\u001b[49m\u001b[43m \u001b[49m\u001b[43mfn\u001b[49m\u001b[43m,\u001b[49m\u001b[43m \u001b[49m\u001b[38;5;28;43;01mTrue\u001b[39;49;00m\u001b[43m)\u001b[49m\n\u001b[1;32m    131\u001b[0m     \u001b[38;5;28;01melse\u001b[39;00m:\n\u001b[1;32m    132\u001b[0m         \u001b[38;5;66;03m# Type missing for a parameter.\u001b[39;00m\n\u001b[1;32m    133\u001b[0m         \u001b[38;5;28;01mraise\u001b[39;00m \u001b[38;5;167;01mTypeError\u001b[39;00m(\u001b[38;5;124m\"\u001b[39m\u001b[38;5;124mThe function \u001b[39m\u001b[38;5;130;01m\\x1b\u001b[39;00m\u001b[38;5;124m[34m\u001b[39m\u001b[38;5;132;01m%s\u001b[39;00m\u001b[38;5;130;01m\\x1b\u001b[39;00m\u001b[38;5;124m[0m is missing a type for the parameter \u001b[39m\u001b[38;5;132;01m%s\u001b[39;00m\u001b[38;5;124m.\u001b[39m\u001b[38;5;124m\"\u001b[39m \u001b[38;5;241m%\u001b[39m (fn\u001b[38;5;241m.\u001b[39m\u001b[38;5;18m__name__\u001b[39m, name))\n",
      "File \u001b[0;32m/opt/conda/lib/python3.10/site-packages/cs103/typecheck/typecheck.py:102\u001b[0m, in \u001b[0;36msubtype\u001b[0;34m(value_description, va, tb, fn, strict, error_type)\u001b[0m\n\u001b[1;32m    100\u001b[0m         \u001b[38;5;28;01mraise\u001b[39;00m error_type(va,name,astr(tb), fn,value_description)\n\u001b[1;32m    101\u001b[0m     \u001b[38;5;28;01mreturn\u001b[39;00m \u001b[38;5;28;01mFalse\u001b[39;00m\n\u001b[0;32m--> 102\u001b[0m \u001b[38;5;28;01melif\u001b[39;00m \u001b[38;5;129;01mnot\u001b[39;00m \u001b[38;5;28;43missubclass\u001b[39;49m\u001b[43m(\u001b[49m\u001b[43mta\u001b[49m\u001b[43m,\u001b[49m\u001b[43m \u001b[49m\u001b[43mtb\u001b[49m\u001b[43m)\u001b[49m:\n\u001b[1;32m    103\u001b[0m     \u001b[38;5;28;01mif\u001b[39;00m strict:\n\u001b[1;32m    104\u001b[0m         \u001b[38;5;28;01mraise\u001b[39;00m error_type(va,name,astr(tb), fn,value_description)\n",
      "\u001b[0;31mTypeError\u001b[0m: issubclass() arg 2 must be a class, a tuple of classes, or a union"
     ]
    }
   ],
   "source": [
    "# TODO: a function to see if you might be able to afford an item,\n",
    "# given your amount of money and its price.\n",
    "\n",
    "@typecheck\n",
    "def might_buy(budget: MoneyAmount, price: ...) -> bool:\n",
    "    \"\"\"\n",
    "    prouce True if you can buy an item, given your budget (amount of money available) \n",
    "    and its price and False otherwise\n",
    "    \"\"\"\n",
    "    return True  #stub\n",
    "\n",
    "start_testing()\n",
    "expect(might_buy(MoneyAmount(0, 0), ...), ...)\n",
    "summary()"
   ]
  }
 ],
 "metadata": {
  "kernelspec": {
   "display_name": "Python 3 (ipykernel)",
   "language": "python",
   "name": "python3"
  },
  "language_info": {
   "codemirror_mode": {
    "name": "ipython",
    "version": 3
   },
   "file_extension": ".py",
   "mimetype": "text/x-python",
   "name": "python",
   "nbconvert_exporter": "python",
   "pygments_lexer": "ipython3",
   "version": "3.10.9"
  }
 },
 "nbformat": 4,
 "nbformat_minor": 2
}
