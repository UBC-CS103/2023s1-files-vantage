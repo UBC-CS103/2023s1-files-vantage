{
 "cells": [
  {
   "cell_type": "markdown",
   "metadata": {},
   "source": [
    "## Announcements\n",
    "- Tutorial 2 and 3 resubmissions are open and due Sunday, June 4 at 10pm\n",
    "- The project proposal is due Sunday, June 4 at 10pm.\n",
    "- See canvas for a full list of upcoming due dates\n",
    "- Our midterm is on Tuesday, June 6 from 5-6:30pm in the ICCS building. See Piazza for information on how to resere a spot in one of the two rooms. Making a reservation is **mandatory**."
   ]
  },
  {
   "cell_type": "markdown",
   "metadata": {},
   "source": [
    "## Continuing the Board Game Example\n",
    "\n",
    "Recently, we designed a data definition for a board game. Now, we want to **find all the board games in a collection that are playable by a group with _p_ players**.\n",
    "\n",
    "How do we build on the previous design?"
   ]
  },
  {
   "cell_type": "code",
   "execution_count": null,
   "metadata": {},
   "outputs": [],
   "source": [
    "# BoardGame data definition\n",
    "\n",
    "from typing import NamedTuple\n",
    "from cs103 import *\n",
    "\n",
    "BoardGame = NamedTuple('BoardGame', [('name', str),\n",
    "                                     ('designer', str),\n",
    "                                     ('num_players', int), # in range [1, ...)\n",
    "                                     ('min_age', int)])    # in range [0, ...)\n",
    "# interp. a board game with its name, designer's name, minimum number of\n",
    "#         players, and minimum age to play\n",
    "\n",
    "MONOPOLY = BoardGame('Monopoly', \n",
    "                     'Charles Darrow and Elizabeth J. Magie (Phillips)',\n",
    "                     2,\n",
    "                     8)\n",
    "POKER = BoardGame('Poker', \n",
    "                  'René Goscinny and Albert Uderzo',\n",
    "                  2, \n",
    "                  12)\n",
    "\n",
    "@typecheck\n",
    "# template based on compound (4 fields)\n",
    "def fn_for_board_game(bg: BoardGame) -> ...:\n",
    "    return ...(bg.name,\n",
    "               bg.designer,\n",
    "               bg.num_players,\n",
    "               bg.min_age)\n"
   ]
  },
  {
   "cell_type": "markdown",
   "metadata": {},
   "source": [
    "### How can we represent an arbitrary number of video games?\n",
    "\n",
    "We will design a data definition for List[BoardGame]!"
   ]
  },
  {
   "cell_type": "code",
   "execution_count": null,
   "metadata": {},
   "outputs": [],
   "source": [
    "from typing import List\n",
    "\n"
   ]
  },
  {
   "cell_type": "markdown",
   "metadata": {},
   "source": [
    "### Let's design a function that takes a List[BoardGame]\n",
    "\n",
    "Now, how do we proceed to design a function that finds all the games in a collection appropriate for p players?"
   ]
  },
  {
   "cell_type": "code",
   "execution_count": null,
   "metadata": {},
   "outputs": [],
   "source": [
    "@typecheck\n",
    "def find_all_games_for_p(...) -> ...:\n",
    "    \"\"\"\n",
    "    return all the games in the collection that are appropriate for p players\n",
    "    \"\"\"\n",
    "    return ... #incomplete stub\n",
    "    \n",
    "start_testing()\n",
    "expect(find_all_games_for_p(...), ...)\n",
    "summary()"
   ]
  },
  {
   "cell_type": "markdown",
   "metadata": {},
   "source": [
    "### Games' Names\n",
    "\n",
    "Now, **design a function that returns the names of all the games in a collection**."
   ]
  },
  {
   "cell_type": "code",
   "execution_count": null,
   "metadata": {},
   "outputs": [],
   "source": [
    "@typecheck\n",
    "def get_game_names(game_collection: List[BoardGame]) -> List[str]:\n",
    "    \"\"\"\n",
    "    returns a list of the names of the games in game_collection\n",
    "    \"\"\"\n",
    "    return []  #stub\n",
    "\n",
    "start_testing()\n",
    "\n",
    "expect(get_game_names([]), [])\n",
    "expect(get_game_names(LOBG1), ['Gloomhaven', 'Bunny Bunny Moose Moose'])\n",
    "summary()"
   ]
  },
  {
   "cell_type": "markdown",
   "metadata": {},
   "source": [
    "## Reference Rule Outside of Lists\n",
    "\n",
    "Lists can refer to other types defined in a data definition, but so can several other types of data. Specifically, Optionals and Compounds can refer to other data definitions. In those cases, you follow the same reference rule as with lists.\n",
    "\n",
    "Here's a series of problems to practice that:\n",
    "1. Design a data definition to represent an amount of money in dollars and cents. (Finished for you below, since it's not a particularly new/interesting problem for us!)\n",
    "2. Design a data definition to represent an item's listed price in a store, which an amount of money *or* the price may be unlisted (for certain items where there will be a negotiation around the price if it sold).\n",
    "3. Design a function to determine if you might be able to afford an item based on your amount of money and its price."
   ]
  },
  {
   "cell_type": "code",
   "execution_count": null,
   "metadata": {},
   "outputs": [],
   "source": [
    "MoneyAmount = NamedTuple('MoneyAmount', [('dollars', int), # in range [0, ...)\n",
    "                                         ('cents', int)])  # in range [0, 99]\n",
    "# interp. an amount of money in dollars and cents.\n",
    "MA0 = MoneyAmount(0, 0)\n",
    "MA2_50 = MoneyAmount(2, 50)\n",
    "MA99_99 = MoneyAmount(99, 99)\n",
    "\n",
    "@typecheck\n",
    "# template based on compound (2 fields)\n",
    "def fn_for_money_amount(ma: MoneyAmount) -> ...:\n",
    "    return ...(ma.dollars,\n",
    "               ma.cents)"
   ]
  },
  {
   "cell_type": "code",
   "execution_count": null,
   "metadata": {},
   "outputs": [],
   "source": [
    "# TODO: a price in a store, which may be unlisted."
   ]
  },
  {
   "cell_type": "code",
   "execution_count": null,
   "metadata": {},
   "outputs": [],
   "source": [
    "# TODO: a function to see if you might be able to afford an item,\n",
    "# given your amount of money and its price.\n",
    "\n",
    "@typecheck\n",
    "def might_buy(budget: MoneyAmount, price: ...) -> bool:\n",
    "    \"\"\"\n",
    "    prouce True if you can buy an item, given your budget (amount of money available) \n",
    "    and its price and False otherwise\n",
    "    \"\"\"\n",
    "    return True  #stub\n",
    "\n",
    "start_testing()\n",
    "expect(might_buy(MoneyAmount(0, 0), ...), ...)\n",
    "summary()"
   ]
  }
 ],
 "metadata": {
  "kernelspec": {
   "display_name": "Python 3",
   "language": "python",
   "name": "python3"
  },
  "language_info": {
   "codemirror_mode": {
    "name": "ipython",
    "version": 3
   },
   "file_extension": ".py",
   "mimetype": "text/x-python",
   "name": "python",
   "nbconvert_exporter": "python",
   "pygments_lexer": "ipython3",
   "version": "3.8.5"
  }
 },
 "nbformat": 4,
 "nbformat_minor": 2
}
