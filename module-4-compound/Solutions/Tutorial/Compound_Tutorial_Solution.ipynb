{
 "cells": [
  {
   "cell_type": "markdown",
   "metadata": {},
   "source": [
    "# Compound Tutorial Solution\n",
    "\n",
    "### Pre-Tutorial Work:\n",
    "\n",
    "Read the sample information below and start to think about how to best represent one of the rows as data (i.e. how to best represent the information for a *single year*).\n",
    "\n",
    "We have some historial information production of potatoes in Canada\n",
    "\n",
    "|Year|Seeded Area (acres)|Harvested Area (acres)|Average yield (hundredweight per harvested acre)|Production of potatoes, total (hundredweight x 1,000)|Average farm price (dollars per hundredweight)|\n",
    "|---|---|---|---|---|---|\n",
    "|1990|\t300600|\t295800|\t223.9\t|66235\t|6.59|\n",
    "|1991|\t302500|\t293400|\t212.6   |62377\t|6.73|\n",
    "|1992|\t310600|\t305900|\t260.0\t|79528\t|5.28|\n",
    "|1993|\t315500|\t308600|\t239.9\t|73102\t|8.41|\n",
    "\n",
    "Source: Statistics Canada.  Table 32-10-0358-01  Area, production and farm value of potatoes, (accessed: December 9, 2021) "
   ]
  },
  {
   "cell_type": "markdown",
   "metadata": {},
   "source": [
    "### Problem 1: \n",
    "\n",
    "Design a data definition called PotatoesHarvest to represent the information from one row (i.e., one year) shown above. \n",
    "\n",
    "Be sure to follow all steps of the HtDD recipe."
   ]
  },
  {
   "cell_type": "code",
   "execution_count": null,
   "metadata": {},
   "outputs": [],
   "source": [
    "from cs103 import *\n",
    "from typing import NamedTuple\n",
    "\n",
    "PotatoesHarvest = NamedTuple('PotatoesHarvest', [('year', int),       # in range[1900, ...)\n",
    "                                                 ('seeded', int),     # in range[0, ...)\n",
    "                                                 ('harvested', int),  # in range[0, seeded]\n",
    "                                                 ('yld', float),      # in range[0, ...)\n",
    "                                                 ('prod', int),       # in range[0, ...)\n",
    "                                                 ('price', float)])   # in range[0, ...)\n",
    "# interp. potatoes harvest data from one year ('year') in Canada. It includes the total seeded area ('seeded'), \n",
    "# the total harvested area ('harvested'), the average yield in hundredweights per harvested acre ('yld'),\n",
    "# the total production in hundredweights ('prod'), and the average price of potatoes at the farm in\n",
    "# dollars per hundredweight ('price'). A hundredweight is equivalent to 100 pounds.\n",
    "\n",
    "#  SOLUTION COMMENT:\n",
    "#  What range is legitimate for years? We made a somewhat arbitrary decision that it should\n",
    "#  be 1900 or after. It probably makes sense to have SOME restriction on range (i.e., 0 and\n",
    "#  negative numbers are probably bad choices). Note the range for harvested: the maximum harvested \n",
    "#  area can not exceed the total seeded area.\n",
    "\n",
    "PH1990 = PotatoesHarvest(1990, 300600, 295800, 223.9, 66235, 6.58)\n",
    "PH1991 = PotatoesHarvest(1991, 302500, 293400, 212.6, 62377, 6.73)\n",
    "PH1992 = PotatoesHarvest(1992, 310600, 305900, 260.0, 79528, 5.28)\n",
    "PH1993 = PotatoesHarvest(1993, 315500, 308600, 236.9, 73102, 8.41)\n",
    "\n",
    "\n",
    "# template based on compound\n",
    "@typecheck\n",
    "def fn_for_potatoes_harvest(ph: PotatoesHarvest) -> ...:\n",
    "    return ...(ph.year, \n",
    "               ph.seeded,\n",
    "               ph.harvested,\n",
    "               ph.yld,\n",
    "               ph.prod, \n",
    "               ph.price)"
   ]
  },
  {
   "cell_type": "markdown",
   "metadata": {},
   "source": [
    "### Problem 2:\n",
    "\n",
    "You want to find the total market value of potatoes harvested in a given year. Design a function that takes a PotatoesHarvest and returns the total market value of potatoes in millions of dollars, rounded to two decimal points.\n",
    "\n",
    "Be sure to follow all steps of the HtDF recipe.  "
   ]
  },
  {
   "cell_type": "code",
   "execution_count": null,
   "metadata": {},
   "outputs": [],
   "source": [
    "@typecheck\n",
    "def total_market_value(ph: PotatoesHarvest) -> float:\n",
    "    \"\"\"\n",
    "    returns the total market value of potatoes in millions of dollars, rounded to two decimal points.\n",
    "    \"\"\"\n",
    "    #return 0.0 # stub\n",
    "    # template from PotatoesHarvest\n",
    "    return round((ph.prod*ph.price)/1000, 2)\n",
    "\n",
    "    # SOLUTION COMMENT: the total production needs to be multiplied x1000 to get the total hundredweights,\n",
    "    # then the total value divided by 1000000 to get millions of dollars. Or, simply, divide \n",
    "    # hf.prod * hf.price by 1000\n",
    "\n",
    "start_testing()\n",
    "\n",
    "expect(total_market_value(PH1990),round((66235*6.58)/1000,2))\n",
    "expect(total_market_value(PH1991),round((62377*6.73)/1000,2))\n",
    "\n",
    "summary()"
   ]
  },
  {
   "cell_type": "markdown",
   "metadata": {},
   "source": [
    "### Problem 3:\n",
    "    \n",
    "Design a function that takes two PotatoesHarvest and returns True if the first had a higher average yield than the second. Note that when a function takes in two compound parameters, the template should include all fields from both parameters.\n",
    " \n",
    "Be sure to follow all steps of the HtDF recipe."
   ]
  },
  {
   "cell_type": "code",
   "execution_count": null,
   "metadata": {},
   "outputs": [],
   "source": [
    "@typecheck\n",
    "def higher_avg_yield(ph1: PotatoesHarvest, ph2: PotatoesHarvest) -> bool:\n",
    "    \"\"\"\n",
    "    return True if ph1 has higher average yield than ph2, and False otherwise\n",
    "    \"\"\"\n",
    "    #return True # stub\n",
    "    # template from PotatoesHarvest (all fields from both parameters)\n",
    "    return ph1.yld > ph2.yld\n",
    "\n",
    "start_testing()\n",
    "\n",
    "\n",
    "expect(higher_avg_yield(PH1990, PH1991), True)\n",
    "expect(higher_avg_yield(PH1991, PH1990), False)\n",
    "expect(higher_avg_yield(PH1992, PH1993), True)\n",
    "\n",
    "summary()"
   ]
  }
 ],
 "metadata": {
  "kernelspec": {
   "display_name": "Python 3 (ipykernel)",
   "language": "python",
   "name": "python3"
  },
  "language_info": {
   "codemirror_mode": {
    "name": "ipython",
    "version": 3
   },
   "file_extension": ".py",
   "mimetype": "text/x-python",
   "name": "python",
   "nbconvert_exporter": "python",
   "pygments_lexer": "ipython3",
   "version": "3.9.9"
  }
 },
 "nbformat": 4,
 "nbformat_minor": 2
}
