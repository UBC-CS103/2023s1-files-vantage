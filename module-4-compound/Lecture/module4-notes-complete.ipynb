{
 "cells": [
  {
   "cell_type": "code",
   "execution_count": 2,
   "metadata": {},
   "outputs": [],
   "source": [
    "from cs103 import *"
   ]
  },
  {
   "cell_type": "markdown",
   "metadata": {},
   "source": [
    "## Announcements\n",
    "- Office hours are an opportunity for you to talk with me or a TA and ask any questions that you have. Feel free to attend even if you don't have specific questions; you can sit and work and ask a question when something comes up. The summer term goes by quickly and attending office hours is a great way to keep on top of the course material.\n",
    "- If you lost any marks on a tutorial, we give you an opportunity to resubmit and earn back up to half the marks. The first tutorial resubmission is due on Sunday, May 28 at 10pm. I open them after the tutorials are graded and they will be due at least 48 hours later. I will announce each one on Piazza when it opens. See the canvas assignment for details - there's a specific format that you must follow.\n",
    "- Tutorial attendance is not graded but is **highly** recommended. It's an opportunity to work on your tutorials with TAs available to help you.\n",
    "- Our midterm is scheduled for June 6 from 5-6:30pm in the ICCS building. If you have a confict with that time, you must fill out the survey (posted on Piazza) by Friday, May 26 at 11am"
   ]
  },
  {
   "cell_type": "markdown",
   "metadata": {},
   "source": [
    "## Module 4: Information Composed of Many Pieces and Compound Data "
   ]
  },
  {
   "cell_type": "markdown",
   "metadata": {},
   "source": [
    "### Games\n",
    "\n",
    "**Problem:** You're designing software for [boardgamegeek.com](https://boardgamegeek.com/). Design a data\n",
    "definition for a game. Your users need to record the name of the game,\n",
    "the name of the designer, the number of players, and the\n",
    "recommended minimum age to play."
   ]
  },
  {
   "cell_type": "code",
   "execution_count": 4,
   "metadata": {},
   "outputs": [],
   "source": [
    "# Solution here\n",
    "from typing import NamedTuple\n",
    "\n",
    "BoardGame = NamedTuple('BoardGame', [('name', str),\n",
    "                                     ('designer', str),\n",
    "                                     ('num_players', int), # in range [1, ...)\n",
    "                                     ('min_age', int)])    # in range [0, ...)\n",
    "# interp. a board game with its name, designer's name, minimum number of\n",
    "#         players, and minimum age to play\n",
    "\n",
    "MONOPOLY = BoardGame('Monopoly', \n",
    "                     'Charles Darrow and Elizabeth J. Magie (Phillips)',\n",
    "                     2,\n",
    "                     8)\n",
    "POKER = BoardGame('Poker', \n",
    "                  'René Goscinny and Albert Uderzo',\n",
    "                  2, \n",
    "                  12)\n",
    "\n",
    "@typecheck\n",
    "# template based on compound (4 fields)\n",
    "def fn_for_board_game(bg: BoardGame) -> ...:\n",
    "    return ...(bg.name,\n",
    "               bg.designer,\n",
    "               bg.num_players,\n",
    "               bg.min_age)"
   ]
  },
  {
   "cell_type": "markdown",
   "metadata": {},
   "source": [
    "**Problem:** Design a function to determine if it is possible to play a game, when you invite a particular number of friends over."
   ]
  },
  {
   "cell_type": "code",
   "execution_count": 6,
   "metadata": {},
   "outputs": [
    {
     "name": "stdout",
     "output_type": "stream",
     "text": [
      "\u001b[92m6 of 6 tests passed\u001b[0m\n"
     ]
    }
   ],
   "source": [
    "# Solution here\n",
    "@typecheck\n",
    "def can_play(bg: BoardGame, num_friends: int) -> bool:\n",
    "    \"\"\"\n",
    "    return True if num_friends are enough players to play bg, \n",
    "    False otherwise\n",
    "    \"\"\"\n",
    "    #return False\n",
    "    # template from BoardGame with additional parameter\n",
    "    #return ...(bg.name,\n",
    "    #           bg.designer,\n",
    "    #           bg.num_players,\n",
    "    #           bg.min_age,\n",
    "    #           num_players)\n",
    "    return bg.num_players <= num_friends\n",
    "\n",
    "start_testing()\n",
    "expect(can_play(MONOPOLY, 1), False)\n",
    "expect(can_play(MONOPOLY, 2), True)\n",
    "expect(can_play(MONOPOLY, 3), True)\n",
    "expect(can_play(POKER, 3), True)\n",
    "expect(can_play(BoardGame('Spades', 'unknown', 4, 10), 3), False)\n",
    "expect(can_play(BoardGame('Spades', 'unknown', 4, 10), 4), True)\n",
    "summary()"
   ]
  },
  {
   "cell_type": "markdown",
   "metadata": {},
   "source": [
    "**Problem**: Design a function that takes in two games and determines which game can be played by a younger audience."
   ]
  },
  {
   "cell_type": "code",
   "execution_count": 8,
   "metadata": {},
   "outputs": [
    {
     "name": "stdout",
     "output_type": "stream",
     "text": [
      "\u001b[92m4 of 4 tests passed\u001b[0m\n"
     ]
    }
   ],
   "source": [
    "@typecheck\n",
    "def for_younger(bg1: BoardGame, bg2: BoardGame) -> BoardGame:\n",
    "    \"\"\"\n",
    "    returns the boardgame that can be played by a younger audience,\n",
    "    or bg1 if the minimum age is the same\n",
    "    \"\"\"\n",
    "    #return bg1\n",
    "    # template from BoardGame (twice)\n",
    "    #return ...(bg1.name,\n",
    "    #           bg1.designer,\n",
    "    #           bg1.num_players,\n",
    "    #           bg1.min_age,\n",
    "    #           bg2.name,\n",
    "    #           bg2.designer,\n",
    "    #           bg2.num_players,\n",
    "    #           bg2.min_age)\n",
    "    if bg1.min_age <= bg2.min_age:\n",
    "        return bg1\n",
    "    else:\n",
    "        return bg2\n",
    "\n",
    "start_testing()\n",
    "expect(for_younger(MONOPOLY, POKER), MONOPOLY)\n",
    "expect(for_younger(POKER, MONOPOLY), MONOPOLY)\n",
    "expect(for_younger(BoardGame('Spades', 'unknown', 4, 8), MONOPOLY),\n",
    "       BoardGame('Spades', 'unknown', 4, 8))\n",
    "expect(for_younger(MONOPOLY, BoardGame('Spades', 'unknown', 4, 8)),\n",
    "      MONOPOLY)\n",
    "summary()"
   ]
  },
  {
   "cell_type": "markdown",
   "metadata": {},
   "source": [
    "### Try this at home: TV Shows\n",
    "\n",
    "**Problem:** You're designing software for a provider of TV streaming. Design a data definition for a TV show. (This provider does not have movies yet.) You need to record the title of the TV show, the number of episodes available, the average time of the episodes in minutes, the year it premiered, and if it is currently active or not."
   ]
  },
  {
   "cell_type": "code",
   "execution_count": null,
   "metadata": {},
   "outputs": [],
   "source": [
    "# Solution here\n"
   ]
  },
  {
   "cell_type": "markdown",
   "metadata": {},
   "source": [
    "**Problem:** Design a function to determine if it is possible to watch all available episodes of a TV show... without having the provider ask if you are still awake. Assume it takes 5 hours before the provider checks on you."
   ]
  },
  {
   "cell_type": "code",
   "execution_count": null,
   "metadata": {},
   "outputs": [],
   "source": [
    "# Solution here\n"
   ]
  },
  {
   "cell_type": "markdown",
   "metadata": {},
   "source": [
    "### Example, Artist: Compound or Enumeration?\n",
    "\n",
    "Our artist question asks you to represent \"an artist's family name,\n",
    "given name, birthplace, and art form (e.g., oil painting, sculpture,\n",
    "dance)\".\n",
    "\n",
    "What does one value of this type look like? Let's use [Georgia O'Keeffe](https://en.wikipedia.org/wiki/Georgia_O'Keeffe)\n",
    "(the painter, born in Wisconsin) as our example. We'll try solving the\n",
    "problem first with a compound and then with an enumeration and then\n",
    "try to represent O'Keeffe."
   ]
  },
  {
   "cell_type": "code",
   "execution_count": null,
   "metadata": {},
   "outputs": [],
   "source": [
    "# Version 1: compound\n",
    "from typing import NamedTuple\n",
    "\n",
    "Artist = NamedTuple('Artist', [('family_name', str),\n",
    "                               ('given_name', str),\n",
    "                               ('birthplace', str),\n",
    "                               ('art_form', str)])\n",
    "# interp. an artist with their family name, given name, place of birth,\n",
    "#         and the art form they were best known for.\n",
    "A_MONET = Artist('Monet', 'Claude', 'Paris', 'pastels')\n",
    "A_NAOMI = Artist('Wolfman', 'Naomi', 'Vancouver', 'line drawings')\n",
    "\n",
    "@typecheck\n",
    "# template based on compound (4 fields)\n",
    "def fn_for_artist(a: Artist) -> ...:\n",
    "    return ...(a.family_name,\n",
    "               a.given_name,\n",
    "               a.birthplace,\n",
    "               a.art_form)\n",
    "\n",
    "# How do we represent Georgia O'Keeffe?\n",
    "georgia = Artist(\"O 'Keeffe\", 'Georgia', 'Wisconsin', 'painter')\n",
    "# It is possible to represent an artist with a compound, and this is\n",
    "# the best choice of data type"
   ]
  },
  {
   "cell_type": "code",
   "execution_count": null,
   "metadata": {},
   "outputs": [],
   "source": [
    "# Version 2: enumeration\n",
    "from enum import Enum\n",
    "\n",
    "Artist = Enum('Artist', ['family_name', 'given_name', 'birthplace', 'art_form'])\n",
    "# interp. an aspect of an artist, one of their family name, their given name\n",
    "# their birthplace, or their art form.\n",
    "# Examples are redundant for enumerations.\n",
    "\n",
    "\n",
    "# template based on enumeration (4 cases)\n",
    "@typecheck\n",
    "def fn_for_artist(a: Artist) -> ...:\n",
    "    if a == Artist.family_name:\n",
    "        return ...\n",
    "    elif a == Artist.given_name:\n",
    "        return ...\n",
    "    elif a == Artist.birthplace:\n",
    "        return ...\n",
    "    elif a == Artist.art_form:\n",
    "        return ...\n",
    "\n",
    "# How do we represent Georgia O'Keeffe?\n",
    "georgia = Artist.art_form\n",
    "# Enumeration doesn't work to represent this kind of information"
   ]
  },
  {
   "cell_type": "code",
   "execution_count": null,
   "metadata": {},
   "outputs": [],
   "source": [
    "# Version 3: simple atomic\n",
    "\n",
    "Artist = str\n",
    "# interp. an artist with their family name then given name followed by \"born in\"\n",
    "# and their birthplace and \"known for\" and their art form.\n",
    "A_MONET = 'Monet Claude born in Paris known for pastels'\n",
    "A_NAOMI = 'Wolfman Naomi born in Vancouver known for line drawings'\n",
    "\n",
    "@typecheck\n",
    "# template based on atomic non-distinct\n",
    "def fn_for_artist(a: Artist) -> ...:\n",
    "    return ...(a)\n",
    "\n",
    "# How do we represent Georgia O'Keeffe?\n",
    "georgia = \"O'Keefe Georgia born in Wisconsin known for paintings\"\n",
    "# It is possible to represent an artist with a str, but a compound\n",
    "# is a better choice because it gives us easier access to the \n",
    "# pieces (i.e. the first name, given name, birth place, and art form)"
   ]
  }
 ],
 "metadata": {
  "kernelspec": {
   "display_name": "Python 3 (ipykernel)",
   "language": "python",
   "name": "python3"
  },
  "language_info": {
   "codemirror_mode": {
    "name": "ipython",
    "version": 3
   },
   "file_extension": ".py",
   "mimetype": "text/x-python",
   "name": "python",
   "nbconvert_exporter": "python",
   "pygments_lexer": "ipython3",
   "version": "3.10.9"
  }
 },
 "nbformat": 4,
 "nbformat_minor": 4
}
