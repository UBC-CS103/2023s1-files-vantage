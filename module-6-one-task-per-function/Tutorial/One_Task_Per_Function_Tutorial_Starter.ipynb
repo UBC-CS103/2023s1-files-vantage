{
 "cells": [
  {
   "cell_type": "code",
   "execution_count": null,
   "metadata": {},
   "outputs": [],
   "source": [
    "from cs103 import *"
   ]
  },
  {
   "cell_type": "markdown",
   "metadata": {},
   "source": [
    "## Pre-Tutorial Work:\n",
    "\n",
    "Answer the \"**thought question for pre-tutorial work**\" below."
   ]
  },
  {
   "cell_type": "markdown",
   "metadata": {},
   "source": [
    "## Setup\n",
    "\n",
    "We are going to continue to use the `GovernmentGrant` and `List[GovernmentGrant]` types (given below) in this problem set.\n",
    "\n",
    "Reminder: the `GovernmentGrant` type is based on the information about community gaming grants in BC between April 1, 2020 to September 30, 2021. Government grants are grants that the government gives to community organizations with lottery funds.\n",
    "\n",
    "|City|Organization|Grant Type|Grant Area|Payment Amount|\n",
    "|---|---|---|---|---|\n",
    "|Abbotsford | Special Olympics British Columbia Society - Abbotsford  |\tCommunity Gaming Grant | Sport | 28500|\n",
    "|Barriere | Barriere and District Heritage Society |\tCommunity Gaming Grant | Arts and Culture | 3000|\n",
    "|Coquitlam | Low Entropy Foundation |\tCommunity Gaming Grant | Human and Social Services  | 5000|\n",
    "|Mission | Mission Folk Music Festival Society  | Community Gaming Grant | Arts and Culture | 76000|"
   ]
  },
  {
   "cell_type": "code",
   "execution_count": null,
   "metadata": {},
   "outputs": [],
   "source": [
    "from typing import NamedTuple, List\n",
    "\n",
    "GovernmentGrant = NamedTuple('GovernmentGrant', [('city', str),\n",
    "                                                 ('org', str),\n",
    "                                                 ('type', str),\n",
    "                                                 ('area', str),\n",
    "                                                 ('amt', int)])     # in range[0, ...)\n",
    "# interp. government grant data from BC. includes the city, organization ('org'), grant type ('type'),\n",
    "#         grant area ('area'), and payment amount ('amt') in CAD\n",
    "\n",
    "SPOLY = GovernmentGrant(\"Abbotsford\",\n",
    "                        \"Special Olympics British Columbia Society - Abbotsford\",\n",
    "                        \"Community Gaming Grant\",\n",
    "                        \"Sport\",\n",
    "                        28500)\n",
    "\n",
    "HERITAGE = GovernmentGrant(\"Barriere\",\n",
    "                           \"Barriere and District Heritage Society\",\n",
    "                           \"Community Gaming Grant\",\n",
    "                           \"Arts and Culture\",\n",
    "                           3000)\n",
    "\n",
    "ENTROPY = GovernmentGrant(\"Coquitlam\",\n",
    "                          \"Low Entropy Foundation\",\n",
    "                          \"Community Gaming Grant\",\n",
    "                          \"Human and Social Services\",\n",
    "                          5000)\n",
    "\n",
    "FOLK_MUSIC = GovernmentGrant(\"Mission\",\n",
    "                             \"Mission Folk Music Festival Society\",\n",
    "                             \"Community Gaming Grant\",\n",
    "                             \"Arts and Culture\",\n",
    "                             76000)\n",
    "\n",
    "COQ_SAR = GovernmentGrant(\"Coquitlam\",\n",
    "                          \"Coquitlam Search and Rescue Society\",\n",
    "                          \"Community Gaming Grant\",\n",
    "                          \"Public Safety\",\n",
    "                          17000)\n",
    "\n",
    "CURLING = GovernmentGrant(\"Courtenay\",\n",
    "                          \"Comox Valley Curling Club\",\n",
    "                          \"Community Gaming Grant\",\n",
    "                          \"Sport\",\n",
    "                          10000)\n",
    "\n",
    "THEATRE = GovernmentGrant(\"Cranbook\",\n",
    "                          \"Cranbrook Community Theatre Society\",\n",
    "                          \"Community Gaming Grant\",\n",
    "                          \"Arts and Culture\",\n",
    "                          10000)\n",
    "\n",
    "# template based on compound\n",
    "@typecheck\n",
    "def fn_for_government_grant(gg: GovernmentGrant) -> ...:\n",
    "    return ...(gg.city,\n",
    "               gg.org,\n",
    "               gg.type,\n",
    "               gg.area,\n",
    "               gg.amt)\n",
    "\n",
    "\n",
    "# List[GovernmentGrant]\n",
    "# interp. a list of data about government grants\n",
    "\n",
    "L0 = []\n",
    "L1 = [ENTROPY, SPOLY, HERITAGE, FOLK_MUSIC]\n",
    "\n",
    "# template based on arbitrary-sized and the reference rule\n",
    "@typecheck\n",
    "def fn_for_logg(logg: List[GovernmentGrant]) -> ...:\n",
    "    # description of the acc\n",
    "    acc = ... # type: ...\n",
    "    for gg in logg:\n",
    "        acc = ...(acc, fn_for_government_grant(gg))\n",
    "    return ...(acc)"
   ]
  },
  {
   "cell_type": "markdown",
   "metadata": {},
   "source": [
    "## Problem 1\n",
    "\n",
    "Design a function that takes a grant area, minimum grant amount, maximum grant amount, and a list of government grants and returns all the government grants in the given area where the grant amount falls within the range defined by the minimum and maximum grant amount (inclusive).\n",
    "\n",
    "In particular, the **function MUST operate in two steps**. \n",
    "\n",
    "1. Find the government grants for the given grant area. \n",
    "2. Find which of those government grants received an amount that falls in between the range specified by the minimum and maximum grant value.\n",
    "\n",
    "Remember to follow the HtDF recipe and the helper rules.\n",
    "\n",
    "**Thought question for pre-tuorial work:** Which helper rule applies because of the requirement to operate in two steps?"
   ]
  },
  {
   "cell_type": "code",
   "execution_count": null,
   "metadata": {},
   "outputs": [],
   "source": [
    "# your solution goes here"
   ]
  },
  {
   "cell_type": "code",
   "execution_count": null,
   "metadata": {
    "deletable": false,
    "editable": false
   },
   "outputs": [],
   "source": [
    "# NOTE: You should not be able to edit this cell. Just run it to start the process of submiting your code.\n",
    "from cs103 import submit\n",
    "\n",
    "COURSE = 121081\n",
    "ASSIGNMENT = 1517802\n",
    "\n",
    "submit(COURSE, ASSIGNMENT)\n",
    "\n",
    "# If your submission fails, SUBMIT ANYWAY by downloading your files and uploading \n",
    "# them to Canvas. You can learn how on the page \"How to submit your Jupyter notebook\" \n",
    "# on our Canvas site."
   ]
  }
 ],
 "metadata": {
  "kernelspec": {
   "display_name": "Python 3",
   "language": "python",
   "name": "python3"
  },
  "language_info": {
   "codemirror_mode": {
    "name": "ipython",
    "version": 3
   },
   "file_extension": ".py",
   "mimetype": "text/x-python",
   "name": "python",
   "nbconvert_exporter": "python",
   "pygments_lexer": "ipython3",
   "version": "3.8.5"
  }
 },
 "nbformat": 4,
 "nbformat_minor": 2
}
