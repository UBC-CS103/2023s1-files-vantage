{
 "cells": [
  {
   "cell_type": "markdown",
   "metadata": {},
   "source": [
    "### Announcements\n",
    "- Please remember to sign up for the midterm exam! Details on Piazza. We still have 6 students who need to register\n",
    "- The exam is tomorrow (June 6) from 5-6:30pm in the CBTF which is on the 0 level of the ICCS building. See your exam reservationon PrairieTest for an exact location\n",
    "- Full details about the exam are on Piazza\n",
    "- There are practice exams and practice problems in canvas\n",
    "- **Please ask us during the exam if you're having any problems with PrairieLearn/PrairieTest**. There will be no makeup opportunity if you are unable to submit your solutions."
   ]
  },
  {
   "cell_type": "code",
   "execution_count": null,
   "metadata": {
    "slideshow": {
     "slide_type": "notes"
    }
   },
   "outputs": [],
   "source": [
    "from typing import NamedTuple, List\n",
    "from cs103 import *"
   ]
  },
  {
   "cell_type": "markdown",
   "metadata": {
    "slideshow": {
     "slide_type": "slide"
    }
   },
   "source": [
    "## School Tuition\n",
    "\n",
    "Given a list of schools across the world, a location of residence (the\n",
    "place where you live), and an alternate\n",
    "location you're considering, find the school with the lowest tuition\n",
    "in one of the two locations under consideration. \n",
    "\n",
    "Assume that the list of schools you are being given is not going to be an empty list and that the list contains at least one school from the residence you are interested in."
   ]
  },
  {
   "cell_type": "code",
   "execution_count": null,
   "metadata": {
    "slideshow": {
     "slide_type": "skip"
    }
   },
   "outputs": [],
   "source": [
    "School = NamedTuple('School', [('name', str),\n",
    "                               ('location', str),\n",
    "                               ('local_tuition', int),       # in range[0,...]\n",
    "                               ('non_local_tuition', int)])  # in range[0,...]\n",
    "# interp. Schools with their name, location (as a string, which may be a province or\n",
    "# other location), local tuition, and non-local tuition.\n",
    "S1 = School('School_1', 'Canada', 100, 1000)\n",
    "S2 = School('School_2', 'China', 50, 800)\n",
    "S3 = School('School_3', 'USA', 400, 5000)\n",
    "S4 = School('School_4', 'Australia', 30, 300)\n",
    "S5 = School('School_4', 'Hong Kong', 250, 2500)\n",
    "S6 = School('School_4', 'Brazil', 500, 500)\n",
    "S7 = School('School_4', 'Canada', 90, 400)\n",
    "\n",
    "# template based on compound (4 fields)\n",
    "@typecheck\n",
    "def fn_for_school(s: School) -> ...:\n",
    "    return ...(s.name,\n",
    "               s.location,\n",
    "               s.local_tuition,\n",
    "               s.non_local_tuition)\n",
    "\n",
    "\n",
    "\n",
    "# List[School]\n",
    "# interp. a list of schools\n",
    "\n",
    "L1 = []\n",
    "L2 = [S1, S2]\n",
    "L3 = [S1, S2, S3, S4]\n",
    "L4 = [S1, S2, S3, S4, S5, S6, S7]\n",
    "\n",
    "# template based on arbitrary-sized with the reference rule\n",
    "@typecheck\n",
    "def fn_for_los(los: List[School]) -> ...:\n",
    "    # description of acc\n",
    "    acc = ... # type: ...\n",
    "    \n",
    "    for s in los:\n",
    "        acc = ...(fn_for_school(s), acc)\n",
    "        \n",
    "    return ...(acc)"
   ]
  },
  {
   "cell_type": "code",
   "execution_count": null,
   "metadata": {
    "slideshow": {
     "slide_type": "skip"
    }
   },
   "outputs": [],
   "source": [
    "# We've already got a signature, purpose, stub, and examples.\n",
    "# Let's start by writing out a plan of what we want to do in English.\n",
    "# (If the plan has multiple, separate steps, then we will NOT template based\n",
    "# on List[School] but rather based on function composition!)\n",
    "\n",
    "@typecheck\n",
    "def find_lowest_tuition_in_areas(los: List[School], residence: str, alternate: str) -> School:\n",
    "    \"\"\"\n",
    "    Given los (which must contain at least one school located in either residence or alternate),\n",
    "    produce the school located in either residence or alternate that has the lowest tuition,\n",
    "    given that we reside in the location residence (which affects local vs. non-local tuition\n",
    "    for schools).\n",
    "    \"\"\"\n",
    "    return S1  # stub\n",
    "\n",
    "\n",
    "start_testing()\n",
    "\n",
    "# reviewing these tests will help you write other tests\n",
    "# Do we need any other tests? Well, look at the value of the\n",
    "# parameter named alternate in each test case below.\n",
    "expect(find_lowest_tuition_in_areas(L2, \"Canada\", \"Australia\"), S1)\n",
    "expect(find_lowest_tuition_in_areas(L4, \"Canada\", \"Australia\"), S7)\n",
    "expect(find_lowest_tuition_in_areas(L4, \"USA\", \"Australia\"), S4)\n",
    "\n",
    "summary()"
   ]
  },
  {
   "cell_type": "markdown",
   "metadata": {
    "slideshow": {
     "slide_type": "slide"
    }
   },
   "source": [
    "## Quarterly Stock Volumes\n",
    "\n",
    "**Problem:** Find the average volume traded of a stock in a given quarter (Jan-Mar, Apr-Jun, Jul-Sep, Oct-Dec).\n",
    "\n",
    "There's code below already, and it's correct, but its collection of three accumulators is a bit messy. Refactor it to use composition so it's clearer!\n",
    "\n",
    "Note that `len` is a function that works on lists of any type as well as strings.\n",
    "\n",
    "**We may not discuss this in class. Be sure to check out the sample solution when it releases!**"
   ]
  },
  {
   "cell_type": "code",
   "execution_count": null,
   "metadata": {
    "slideshow": {
     "slide_type": "skip"
    }
   },
   "outputs": [],
   "source": [
    "from typing import List\n",
    "\n",
    "QuarterlyVolumes = List[int] # in range [0, ...]\n",
    "# interp. the quarterly volumes traded of a stock (i.e., amounts for\n",
    "# quarter 1 (Jan-Mar), 2 (Apr-Jun), 3 (Jul-Sep), or 4 (Oct-Dec).\n",
    "# Examples should be in contiguous time order. In other words, they\n",
    "# should not skip quarters!\n",
    "LOQV0 = []\n",
    "LOQV_ONE_YEAR = [0, 100, 25, 1]\n",
    "LOQV_THREE_YEARS = [0, 100, 25, 1, \n",
    "                    10, 50, 14, 3, \n",
    "                    80, 22, 17, 100]\n",
    "LOQV_AAPL_1981_2017 = [\n",
    "    407831200, 519478400, 489932800, 631993600,\n",
    "    668074400, 949284000, 1309442400, 2414451200,\n",
    "    2595163200, 2057680800, 3525244800, 2950164000,\n",
    "    2359016800, 2926879200, 2611828800, 2597033600,\n",
    "    3928848000, 3329636800, 1554384800, 2560448800,\n",
    "    3494248800, 3370024000, 3228338400, 3238194400,\n",
    "    5211102400, 3537413600, 2316260800, 3878050400,\n",
    "    3618042400, 2367792000, 1975013600, 2362396400,\n",
    "    4022944800, 3290271600, 2265446400, 3147793600,\n",
    "    2696965600, 2927540000, 2374775200, 3101204400,\n",
    "    4448421600, 4826889200, 2587303600, 2474298400,\n",
    "    2555954800, 2871699600, 2358750800, 2498073200,\n",
    "    3463768000, 3697338400, 3623524800, 3328600800,\n",
    "    4218620000, 3018895600, 3163902000, 3887556400,\n",
    "    5114648000, 4395230000, 4575995200, 4480761600,\n",
    "    4574766000, 2786229600, 2801103200, 3136456400,\n",
    "    4537288000, 2168684000, 7016038400, 4268829600,\n",
    "    7047930400, 4698766800, 8057212800, 8994638800,\n",
    "    8298978800, 7929124000, 9919663600, 8127910000,\n",
    "    7143329200, 6643840000, 6474946800, 9813283200,\n",
    "    7883072400, 6566422800, 4828996200, 4385957800,\n",
    "    5417846000, 5276752600, 4640484800, 3918398400,\n",
    "    3547135200, 6175055600, 3718330000, 4367042400,\n",
    "    6118987000, 5615421000, 6345362800, 12370646400,\n",
    "    15458277800, 10890252100, 7960705900, 11291009800,\n",
    "    15957925200, 13416171300, 13272236600, 11278408400,\n",
    "    14212695000, 13526087400, 17327648800, 16682565200,\n",
    "    20741779100, 15212747900, 14225769600, 21315004900,\n",
    "    11849447400, 8488599000, 7274145200, 8201230100,\n",
    "    9524811800, 11775259300, 9277186100, 7178974600,\n",
    "    7860986000, 6357435000, 9693498500, 7102915400,\n",
    "    8453186700, 8640290400, 6596215500, 9301358500,\n",
    "    7911083600, 6857389000, 5806848600, 5030071200,\n",
    "    4912005000, 4249617100, 3498583000, 3254283000,\n",
    "    3579821100, 2828800200, 4050072500, 2784493400,\n",
    "    2827936300, 2551770000, 2283923700, 2016991500,\n",
    "    1699719000, 1711464000, 1763455000, 1635788200\n",
    "]\n",
    "\n",
    "@typecheck\n",
    "# template based on arbitrary-sized\n",
    "def fn_for_loqv(loqv: List[int]) -> ...:\n",
    "    # description of the accumulator\n",
    "    acc = ...   # type: ...\n",
    "\n",
    "    for qv in loqv:\n",
    "        acc = ...(qv, acc)\n",
    "\n",
    "    return ...(acc)"
   ]
  },
  {
   "cell_type": "code",
   "execution_count": null,
   "metadata": {
    "slideshow": {
     "slide_type": "skip"
    }
   },
   "outputs": [],
   "source": [
    "@typecheck\n",
    "def avg_volume_of_quarter(loqv: QuarterlyVolumes, quarter: int) -> float:\n",
    "    \"\"\"\n",
    "    Return the average volume for the given stock in the given quarter across all years of data supplied.\n",
    "    \n",
    "    Assumes that loqv begins with quarter 1. quarter must be in the range [1,4].\n",
    "    \n",
    "    Returns 0 if there are no matching quarters.\n",
    "    \"\"\"\n",
    "    #return 0.0  #stub\n",
    "    #template based on QuarterlyVolumes\n",
    "    \n",
    "    # total is the total volume across quarters matching quarter seen so far\n",
    "    total = 0   # type: int\n",
    "    \n",
    "    # count is the number of quarters matching quarter seen so far\n",
    "    count = 0   # type: int\n",
    "    \n",
    "    # curr is the current quarter for the quarter currently under review\n",
    "    curr = 1    # type: int  # in range[1,4]\n",
    "    \n",
    "    for qv in loqv:\n",
    "        if quarter == curr:\n",
    "            total += qv\n",
    "            count += 1\n",
    "        curr += 1\n",
    "        if curr > 4:\n",
    "            curr = 1\n",
    "    \n",
    "    if count == 0:\n",
    "        return 0.0\n",
    "    else:\n",
    "        return total / count\n",
    "\n",
    "\n",
    "start_testing()\n",
    "\n",
    "# An extra example that has an incomplete year:\n",
    "LOQV_INCOMPLETE_YEAR = [0, 100, 25, 1, \n",
    "                        10, 50, 14, 3, \n",
    "                        80, 22]\n",
    "\n",
    "expect(avg_volume_of_quarter([], 1), 0.0)\n",
    "expect(avg_volume_of_quarter([], 3), 0.0)\n",
    "expect(avg_volume_of_quarter([10, 20, 300, 4000], 1), 10.0)\n",
    "expect(avg_volume_of_quarter([10, 20, 300, 4000], 2), 20.0)\n",
    "expect(avg_volume_of_quarter([10, 20, 300, 4000], 3), 300.0)\n",
    "expect(avg_volume_of_quarter([10, 20, 300, 4000], 4), 4000.0)\n",
    "\n",
    "expect(avg_volume_of_quarter(LOQV_THREE_YEARS, 1), (0+10+80)/3)\n",
    "expect(avg_volume_of_quarter(LOQV_THREE_YEARS, 3), (25+14+17)/3)\n",
    "\n",
    "expect(avg_volume_of_quarter(LOQV_INCOMPLETE_YEAR, 1), (0+10+80)/3)\n",
    "expect(avg_volume_of_quarter(LOQV_INCOMPLETE_YEAR, 3), (25+14)/2)\n",
    "\n",
    "summary()"
   ]
  }
 ],
 "metadata": {
  "kernelspec": {
   "display_name": "Python 3",
   "language": "python",
   "name": "python3"
  },
  "language_info": {
   "codemirror_mode": {
    "name": "ipython",
    "version": 3
   },
   "file_extension": ".py",
   "mimetype": "text/x-python",
   "name": "python",
   "nbconvert_exporter": "python",
   "pygments_lexer": "ipython3",
   "version": "3.8.5"
  }
 },
 "nbformat": 4,
 "nbformat_minor": 2
}
