{
 "cells": [
  {
   "cell_type": "markdown",
   "id": "043472e7",
   "metadata": {},
   "source": [
    "Here are some completed helper functions for our module 7 lecture example.\n",
    "\n",
    "Note that you won't be able to run this cell as we did not include our data definitions or import statements in this file. This code WILL run if we copy/paste it into our lecture file."
   ]
  },
  {
   "cell_type": "code",
   "execution_count": null,
   "id": "33564377",
   "metadata": {},
   "outputs": [],
   "source": [
    "@typecheck\n",
    "def has_conc(aq: AirQuality) -> bool:\n",
    "    \"\"\"\n",
    "    return True if aq has a concentration (ie, it is not missing)\n",
    "    \"\"\"\n",
    "    #return True\n",
    "    # template from AirQuality\n",
    "    return not_missing(aq.conc)\n",
    "\n",
    "@typecheck\n",
    "def not_missing(c: Concentration) -> bool:\n",
    "    \"\"\"\n",
    "    return False if c is None, True otherwise\n",
    "    \"\"\"\n",
    "    #return False\n",
    "    # template from Concentration\n",
    "    if c == None:\n",
    "        return False\n",
    "    else:\n",
    "        return True\n",
    "    \n",
    "start_testing()\n",
    "\n",
    "# Examples and tests for has_conc\n",
    "expect(has_conc(AQ1), True)\n",
    "expect(has_conc(AQ4), False)\n",
    "\n",
    "# Examples and tests for not_missing\n",
    "expect(not_missing(1.2), True)\n",
    "expect(not_missing(None), False)\n",
    "\n",
    "summary()"
   ]
  }
 ],
 "metadata": {
  "kernelspec": {
   "display_name": "Python 3 (ipykernel)",
   "language": "python",
   "name": "python3"
  },
  "language_info": {
   "codemirror_mode": {
    "name": "ipython",
    "version": 3
   },
   "file_extension": ".py",
   "mimetype": "text/x-python",
   "name": "python",
   "nbconvert_exporter": "python",
   "pygments_lexer": "ipython3",
   "version": "3.11.3"
  }
 },
 "nbformat": 4,
 "nbformat_minor": 5
}
