{
 "cells": [
  {
   "cell_type": "code",
   "execution_count": null,
   "metadata": {},
   "outputs": [],
   "source": [
    "from cs103 import *"
   ]
  },
  {
   "cell_type": "markdown",
   "metadata": {},
   "source": [
    "# 2022SV Tutorial Starter - Analysis Programs\n",
    "\n",
    "## Pre-Tutorial Work\n",
    "\n",
    "None this week"
   ]
  },
  {
   "cell_type": "markdown",
   "metadata": {},
   "source": [
    "## Overview\n",
    "\n",
    "You have a file containing information about newspapers' advertising revenue and circulation revenue.\n",
    "\n",
    "Take a look at the included file called `newspaper_advertising_and_circulation.csv` to see how it is structured. Two files containing small subsets of this information have also been  provided for testing purposes (`newspaper_advertising_and_circulation_test1.csv` and `newspaper_advertising_and_circulation_test2.csv`). You can find the original information [here](http://www.journalism.org/fact-sheet/newspapers/) (Note that the information for years 2013-2020 is estimated, not measured).\n",
    "\n",
    "Now that you have looked at the file, we'll complete the planning steps of the HtDAP recipe. "
   ]
  },
  {
   "cell_type": "markdown",
   "metadata": {},
   "source": [
    "#### Step 1a\n",
    "The file contains information about newspapers' circulation and advertising revenue between 1956 and 2020. The information for 2013-2020 is estimated, not measured. For each year, the advertising revenue and circulation revenue are given in thousands of US dollars. The circulation revenue is missing for 1990."
   ]
  },
  {
   "cell_type": "markdown",
   "metadata": {},
   "source": [
    "#### Step 1b\n",
    "\n",
    "Now, here are some ideas of what a program operating on this information might produce.\n",
    "\n",
    "We might find the year that had the biggest ratio of advertising revenue to circulation revenue.\n",
    "\n",
    "We might find the highest circulation revenue.\n",
    "\n",
    "We might plot the circulation revenue and advertising revenue over time.\n",
    "\n",
    "We might find the year that had the highest advertising revenue.\n",
    "\n",
    "We might find the change in advertising revenue for each year in comparison to the previous year as a percentage.\n",
    "\n",
    "#### We are going to find the year that had the highest advertising revenue."
   ]
  },
  {
   "cell_type": "markdown",
   "metadata": {},
   "source": [
    "#### Step 1c\n",
    "Here's an  example that shows the kind of output we expect from this program:\n",
    "```python\n",
    "expect(main('newspaper_advertising_and_circulation.csv'), 2006)\n",
    "```\n"
   ]
  },
  {
   "cell_type": "markdown",
   "metadata": {},
   "source": [
    "## Problem 1\n",
    "\n",
    "Now it is time to start building the program. Using the planning steps completed above, determine the information that you will need to represent in your program as data. \n",
    "\n",
    "You must clearly state which pieces of information you will choose to repesent.\n",
    "\n",
    "*Note: We recommend that you only store information for years that have complete information. i.e. if the advertising revenue or circulation revenue is missing, ignore that row.*\n",
    "\n",
    "Then complete the design of data definition(s) to represent that information. "
   ]
  },
  {
   "cell_type": "code",
   "execution_count": 2,
   "metadata": {},
   "outputs": [],
   "source": [
    "# your solution goes here\n"
   ]
  },
  {
   "cell_type": "markdown",
   "metadata": {},
   "source": [
    "## Problem 2a\n",
    "\n",
    "Once you have your data definition(s) from Problem 1, design a function that reads\n",
    "the information from the file and stores it as data in your program. \n",
    "\n",
    "*Remember: we recommend that you only store information for years that have complete information. i.e. if the advertising revenue or circulation revenue is missing, ignore that row.*\n",
    "\n",
    "You should begin by copying the template from the HtDAP page, then complete the \n",
    "design of the `main` and `read` functions. When testing your functions, you may use the testing files called `newspaper_advertising_and_circulation_test1.csv` and `newspaper_advertising_and_circulation_test2.csv`."
   ]
  },
  {
   "cell_type": "code",
   "execution_count": 3,
   "metadata": {},
   "outputs": [],
   "source": [
    "# your solution goes here\n"
   ]
  },
  {
   "cell_type": "markdown",
   "metadata": {
    "collapsed": true
   },
   "source": [
    "## Problem 2b\n",
    "\n",
    "To finish your program, complete the design of the analysis function(s). For this particular problem, we would like your program to find the year that had the highest advertising revenue.\n",
    "\n",
    "Think about your data definitions and the helper rules to determine how many helper functions you will need to write when designing this function. "
   ]
  },
  {
   "cell_type": "code",
   "execution_count": 4,
   "metadata": {},
   "outputs": [],
   "source": [
    "# RETURN to the cell above to complete your design of the analysis functions.\n",
    "# Do not design them here."
   ]
  },
  {
   "cell_type": "code",
   "execution_count": null,
   "metadata": {
    "deletable": false,
    "editable": false
   },
   "outputs": [],
   "source": [
    "# NOTE: You should not be able to edit this cell. Just run it to start the process of submiting your code.\n",
    "from cs103 import submit\n",
    "\n",
    "COURSE = 121081\n",
    "ASSIGNMENT = 1517807\n",
    "\n",
    "submit(COURSE, ASSIGNMENT)\n",
    "\n",
    "# If your submission fails, SUBMIT ANYWAY by downloading your files and uploading them to \n",
    "# Canvas. You can learn how on the page \"How to submit your Jupyter notebook\" on our \n",
    "# Canvas site."
   ]
  },
  {
   "cell_type": "markdown",
   "metadata": {},
   "source": [
    "## If you encounter a FileNotFound error when trying to submit your work, please ensure that you have also selected the CSV files when handing in your work. You can select multiple files in the file dropbox box by holding control/cmd and then clicking on all the files you want to submit."
   ]
  }
 ],
 "metadata": {
  "kernelspec": {
   "display_name": "Python 3",
   "language": "python",
   "name": "python3"
  },
  "language_info": {
   "codemirror_mode": {
    "name": "ipython",
    "version": 3
   },
   "file_extension": ".py",
   "mimetype": "text/x-python",
   "name": "python",
   "nbconvert_exporter": "python",
   "pygments_lexer": "ipython3",
   "version": "3.8.5"
  }
 },
 "nbformat": 4,
 "nbformat_minor": 1
}
