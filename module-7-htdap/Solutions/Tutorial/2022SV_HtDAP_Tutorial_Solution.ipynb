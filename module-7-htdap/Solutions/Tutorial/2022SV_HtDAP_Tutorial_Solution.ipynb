{
 "cells": [
  {
   "cell_type": "code",
   "execution_count": 2,
   "metadata": {},
   "outputs": [],
   "source": [
    "from cs103 import *"
   ]
  },
  {
   "cell_type": "markdown",
   "metadata": {},
   "source": [
    "# Tutorial Solution - Analysis Programs\n",
    "\n",
    "## Pre-Tutorial Work\n",
    "\n",
    "None this week."
   ]
  },
  {
   "cell_type": "markdown",
   "metadata": {},
   "source": [
    "## Overview\n",
    "\n",
    "You have a file containing information about newspapers' advertising revenue and circulation revenue.\n",
    "\n",
    "Take a look at the included file called `newspaper_advertising_and_circulation.csv` to see how it is structured. Two files containing small subsets of this information have also been  provided for testing purposes (`newspaper_advertising_and_circulation_test1.csv` and `newspaper_advertising_and_circulation_test2.csv`). You can find the original information [here](http://www.journalism.org/fact-sheet/newspapers/) (Note that the information for years 2013-2020 is estimated, not measured).\n",
    "\n",
    "Now that you have looked at the file, we'll complete the planning steps of the HtDAP recipe. "
   ]
  },
  {
   "cell_type": "markdown",
   "metadata": {},
   "source": [
    "#### Step 1a\n",
    "The file contains information about newspapers' circulation and advertising revenue between 1956 and 2020. The information for 2013-2020 is estimated, not measured. For each year, the advertising revenue and circulation revenue are given in thousands of US dollars. The circulation revenue is missing for 1990."
   ]
  },
  {
   "cell_type": "markdown",
   "metadata": {},
   "source": [
    "#### Step 1b\n",
    "\n",
    "Now, here are some ideas of what a program operating on this information might produce.\n",
    "\n",
    "We might find the year that had the biggest ratio of advertising revenue to circulation revenue.\n",
    "\n",
    "We might find the highest circulation revenue.\n",
    "\n",
    "We might plot the circulation revenue and advertising revenue over time.\n",
    "\n",
    "We might find the year that had the highest advertising revenue.\n",
    "\n",
    "We might find the change in advertising revenue for each year in comparison to the previous year as a percentage.\n",
    "\n",
    "\n",
    "#### We are going to find the year that had the highest advertising revenue."
   ]
  },
  {
   "cell_type": "markdown",
   "metadata": {},
   "source": [
    "#### Step 1c\n",
    "Here's an  example that shows the kind of output we expect from this program:\n",
    "```python\n",
    "expect(main('newspaper_advertising_and_circulation.csv'), 2006)\n",
    "```\n"
   ]
  },
  {
   "cell_type": "markdown",
   "metadata": {},
   "source": [
    "## Problem 1\n",
    "\n",
    "Now it is time to start building the program. Using the planning steps completed above, determine the information that you will need to represent in your program as data. \n",
    "\n",
    "You must clearly state which pieces of information you will choose to repesent.\n",
    "\n",
    "*Note: We recommend that you only store information for years that have complete information. i.e. if the advertising revenue or circulation revenue is missing, ignore that row.*\n",
    "\n",
    "Then complete the design of data definition(s) to represent that information. "
   ]
  },
  {
   "cell_type": "code",
   "execution_count": 3,
   "metadata": {},
   "outputs": [],
   "source": [
    "# I only need the year and advertising revenue for each row\n",
    "from typing import  NamedTuple, List\n",
    "\n",
    "NewspaperRevenue = NamedTuple('NewspaperRevenue', [('year', int),     # in range [0, ...)\n",
    "                                                   ('ad_rev', int)])  # in range [0, ...)  \n",
    "# interp. a the advertising revenue ('ad_rev') of a newspaper for the given year. \n",
    "NR1956 = NewspaperRevenue(1956, 3223000)\n",
    "NR1957 = NewspaperRevenue(1957, 3268000)\n",
    "NR1991 = NewspaperRevenue(1991, 30349000)\n",
    "\n",
    "# template based on compound (3 fields)\n",
    "def fn_for_newspaper_revenue(nr: NewspaperRevenue) -> ...:\n",
    "    return ...(nr.year,\n",
    "               nr.ad_rev)\n",
    "\n",
    "# List[NewspaperRevenue]\n",
    "# interp. a list of information about newspapers' revenues\n",
    "L0 = []\n",
    "L1 = [NR1956, NR1957]\n",
    "L2 = [NR1991]\n",
    "\n",
    "# Template based on arbitrary-sized and the reference rule\n",
    "def fn_for_lonr(lonr: List[NewspaperRevenue]) -> ...:\n",
    "    # description of the acc\n",
    "    acc = ...    # type: ...\n",
    "    for nr in lonr:\n",
    "        acc = ...(fn_for_newspaper_revenue(nr), acc)\n",
    "    return ...(acc)"
   ]
  },
  {
   "cell_type": "markdown",
   "metadata": {},
   "source": [
    "## Problem 2a\n",
    "\n",
    "Once you have your data definition(s) from Problem 1, design a function that reads\n",
    "the information from the file and stores it as data in your program. \n",
    "\n",
    "*Remember: we recommend that you only store information for years that have complete information. i.e. if the advertising revenue or circulation revenue is missing, ignore that row.*\n",
    "\n",
    "You should begin by copying the template from the HtDAP page, then complete the \n",
    "design of the `main` and `read` functions. When testing your functions, you may use the testing files called `newspaper_advertising_and_circulation_test1.csv` and `newspaper_advertising_and_circulation_test2.csv`."
   ]
  },
  {
   "cell_type": "code",
   "execution_count": 4,
   "metadata": {},
   "outputs": [
    {
     "name": "stdout",
     "output_type": "stream",
     "text": [
      "\u001b[92m12 of 12 tests passed\u001b[0m\n"
     ]
    }
   ],
   "source": [
    "import csv\n",
    "from typing import Optional\n",
    "\n",
    "def main(fn: str) -> int:\n",
    "    \"\"\"\n",
    "    Reads the file from given filename and returns the year that has the highest advertising revenue\n",
    "    \"\"\"\n",
    "    # template as a function composition\n",
    "    return highest_ad_rev(read(fn))\n",
    "\n",
    "def is_valid(rev: Optional[int]) -> bool:\n",
    "    \"\"\"\n",
    "    return True if rev is an int and False otherwise\n",
    "    \"\"\"\n",
    "    # return False # body of the stub\n",
    "    # template based on optional\n",
    "    if rev is None:\n",
    "        return False\n",
    "    else:\n",
    "        return True\n",
    "    \n",
    "def read(fn: str) -> List[NewspaperRevenue]:\n",
    "    \"\"\"    \n",
    "    Reads the file from given filename and returns a list of the\n",
    "    newspaper revenues\n",
    "    \"\"\"\n",
    "    #return []   #stub\n",
    "    #template from HtDAP\n",
    "    \n",
    "    # lonr contains the result so far\n",
    "    lonr = []   # type: List[NewspaperRevenue]\n",
    "    with open(fn) as csvfile:\n",
    "        reader = csv.reader(csvfile, delimiter=',')\n",
    "        next(reader) # skip header line\n",
    "        \n",
    "        for row in reader:     \n",
    "            year = parse_int(row[0])\n",
    "            ad_revenue = parse_int(row[1])\n",
    "            circ_revenue =  parse_int(row[2])\n",
    "            # based on the suggestion, we are only storing rows that had both ad revenue and\n",
    "            # circulation revenue in the .csv file. Since we are only using ad revenue in\n",
    "            # our compound, you could have just checked that the ad revenue wasn't empty\n",
    "            if is_valid(ad_revenue) and is_valid(circ_revenue): \n",
    "                nr = NewspaperRevenue(year,  \n",
    "                                      ad_revenue)  \n",
    "                lonr.append(nr)\n",
    "    return lonr\n",
    "\n",
    "def highest_ad_rev(lonr: List[NewspaperRevenue]) -> int:\n",
    "    \"\"\"\n",
    "    return the year from lonr that had the highest advertising revenue\n",
    "    \n",
    "    ASSUME: lonr is not empty\n",
    "    \"\"\"\n",
    "    #return 1  # body of the stub\n",
    "    # template from List[NewspaperRevenue]\n",
    "    # description of the acc\n",
    "    curr_max = lonr[0]    # type: NewspaperRevenue\n",
    "    for nr in lonr:\n",
    "        curr_max = higher_ad(nr, curr_max)\n",
    "    return curr_max.year\n",
    "\n",
    "def higher_ad(nr1: NewspaperRevenue, nr2: NewspaperRevenue) -> NewspaperRevenue:\n",
    "    \"\"\"\n",
    "    return the NewspaperRevenue with the highest ad revenue\n",
    "    \"\"\"\n",
    "    # return nr1 # body of the stub\n",
    "    # template based on NewspaperRevenue (all selectors from both inputs)\n",
    "    if nr1.ad_rev > nr2.ad_rev:\n",
    "        return nr1\n",
    "    else:\n",
    "        return nr2\n",
    "        \n",
    "start_testing()\n",
    "\n",
    "# examples and tests for main\n",
    "expect(main('newspaper_advertising_and_circulation.csv'), 2005)\n",
    "expect(main('newspaper_advertising_and_circulation_test2.csv'), 1957)\n",
    "\n",
    "# examples and tests for is_valid\n",
    "expect(is_valid(899813), True)\n",
    "expect(is_valid(None), False)\n",
    "\n",
    "# examples and tests for read\n",
    "expect(read('newspaper_advertising_and_circulation_test1.csv'), [NR1991])\n",
    "expect(read('newspaper_advertising_and_circulation_test2.csv'), [NR1956, NR1957])\n",
    "expect(len(read('newspaper_advertising_and_circulation.csv')), 64)\n",
    "\n",
    "# examples and tests for highest_ad_rev\n",
    "expect(highest_ad_rev([NR1991]), 1991)\n",
    "expect(highest_ad_rev([NR1956, NR1957]), 1957)\n",
    "expect(highest_ad_rev(read('newspaper_advertising_and_circulation.csv')), 2005)\n",
    "\n",
    "# examples and tests for higher_ad\n",
    "expect(higher_ad(NR1956, NR1957), NR1957)\n",
    "expect(higher_ad(NR1957, NR1991), NR1991)\n",
    "\n",
    "summary()"
   ]
  },
  {
   "cell_type": "markdown",
   "metadata": {},
   "source": [
    "## Problem 2b\n",
    "\n",
    "To finish your program, complete the design of the analysis function(s). For this particular problem, we would like your program to find the year that had the highest advertising revenue.\n",
    "\n",
    "Think about your data definitions and the helper rules to determine how many helper functions you will need to write when designing this function. "
   ]
  },
  {
   "cell_type": "code",
   "execution_count": 14,
   "metadata": {},
   "outputs": [],
   "source": [
    "# RETURN to the cell above to complete your design of the analysis functions.\n",
    "# Do not design them here."
   ]
  }
 ],
 "metadata": {
  "kernelspec": {
   "display_name": "Python 3 (ipykernel)",
   "language": "python",
   "name": "python3"
  },
  "language_info": {
   "codemirror_mode": {
    "name": "ipython",
    "version": 3
   },
   "file_extension": ".py",
   "mimetype": "text/x-python",
   "name": "python",
   "nbconvert_exporter": "python",
   "pygments_lexer": "ipython3",
   "version": "3.9.7"
  }
 },
 "nbformat": 4,
 "nbformat_minor": 4
}
