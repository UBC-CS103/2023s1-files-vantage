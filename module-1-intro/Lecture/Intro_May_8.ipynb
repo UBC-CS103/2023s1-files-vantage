{
 "cells": [
  {
   "cell_type": "code",
   "execution_count": 20,
   "id": "e4a1be5a",
   "metadata": {},
   "outputs": [],
   "source": [
    "# You must run this cell once before you run any of the other cells in this file\n",
    "\n",
    "# Needed (once per notebook) to enable incredible cs103 powers!!\n",
    "from cs103 import * \n",
    "\n",
    "# This indicates we are going to use some code from the date_fact.ipynb file\n",
    "from ipynb.fs.full.date_fact import *"
   ]
  },
  {
   "cell_type": "code",
   "execution_count": 21,
   "id": "264b2a56",
   "metadata": {},
   "outputs": [],
   "source": [
    "# demo\n",
    "\n",
    "3\n",
    "5\n",
    "4.3\n",
    "-1\n",
    "\"Meghan\"\n",
    "'summer'\n",
    "True\n",
    "False\n",
    "\n",
    "3 + 4\n",
    "\"Meghan \" + \"likes summer\"\n",
    "\n",
    "True and False\n",
    "\n",
    "x = 5\n",
    "x = 4\n",
    "\n"
   ]
  },
  {
   "cell_type": "code",
   "execution_count": null,
   "id": "006dcfd5",
   "metadata": {},
   "outputs": [],
   "source": []
  },
  {
   "cell_type": "markdown",
   "id": "add06da5",
   "metadata": {},
   "source": [
    "# The Date Fact API\n",
    "\n",
    "Let's check some fun facts that happened on a date. We will use the the API http://numbersapi.com/. Think of an API a way for us to communicate with another computer to get the information we need. \n",
    "\n",
    "The code inside the file `date_fact.py` gives us the following functions:\n",
    "\n",
    "- `get_date_fact(month: int, day: int) -> str`\n",
    "\n",
    "\n",
    "- `get_number_fact(number: int) -> str`\n",
    "\n",
    "\n",
    "- `get_year_fact(year: int) -> str`"
   ]
  },
  {
   "cell_type": "code",
   "execution_count": 31,
   "id": "a05e2e9d",
   "metadata": {},
   "outputs": [
    {
     "data": {
      "text/plain": [
       "'a fact from 12 31 the Youth International Party, popularly known as the \"Yippies\", is founded'"
      ]
     },
     "execution_count": 31,
     "metadata": {},
     "output_type": "execute_result"
    }
   ],
   "source": [
    "\"a fact from 1 1 is \" + get_date_fact(1, 1)\n",
    "\n"
   ]
  },
  {
   "cell_type": "markdown",
   "id": "0311205e",
   "metadata": {},
   "source": [
    "# Parameterizing Points of Variation\n",
    "\n",
    "What happens if we want to find facts from another year?\n",
    "\n",
    "Is there an easier way to change the value of the year without having to remember all the places the year appeared in?"
   ]
  },
  {
   "cell_type": "code",
   "execution_count": null,
   "id": "90955d46",
   "metadata": {},
   "outputs": [],
   "source": [
    "def share_date_fact(month, day):\n",
    "    return \"a fact from \" +  str(month) + \" \" + str(day) + \" \" + get_date_fact(month, day)\n",
    "\n",
    "share_date_fact(12, 31)"
   ]
  },
  {
   "cell_type": "markdown",
   "id": "ee3cecfb",
   "metadata": {},
   "source": [
    "# What Happened in Your Date of Birth?\n",
    "Write some code to find an event that happened on your birth date. Follow the same steps as before.\n",
    "\n",
    "1. Take a look at the names of the functions. Out of the three functions listed above, which one should we use?\n",
    "2. Take a look at the signature. What kind of information is the function asking for? What kind of data type is it?\n",
    "3. Try to call the function!"
   ]
  },
  {
   "cell_type": "markdown",
   "id": "cceafe3c",
   "metadata": {},
   "source": [
    "## TODO\n",
    "\n",
    "- activate your students.cs.ubc.ca email address by logging in at [https://www.cs.ubc.ca/getacct/](https://www.cs.ubc.ca/getacct) \n",
    "- add your CWL@students.cs.ubc.ca email address to your Piazza account and sign up for our course via the link on the syllabus (availabile in canvas)\n",
    "- explore on Canvas!\n",
    "- read the syllabus + do the syllabus quiz\n",
    "- complete the Setup Tutorial by the end of Tuesday. It's due May 14, but the sooner you complete it the better. (there are office hours where you can ask for help -see canvas)\n",
    "- complete the Module 1 Pre-Class Reading and Pre-Lecture Assignment, and Module 2 Pre-Class Reading and Pre-Lecture Assignment (all deadlines are visible on canvas; these ones are due Wednesday at 10am!)\n",
    "- visit Office Hours on Tuesday or later this week if we can help with anything. Details are in canvas under Course Administration > Schedule: Tutorials and Office Hours"
   ]
  },
  {
   "cell_type": "code",
   "execution_count": null,
   "id": "68eccf2d",
   "metadata": {},
   "outputs": [],
   "source": []
  }
 ],
 "metadata": {
  "kernelspec": {
   "display_name": "Python 3 (ipykernel)",
   "language": "python",
   "name": "python3"
  },
  "language_info": {
   "codemirror_mode": {
    "name": "ipython",
    "version": 3
   },
   "file_extension": ".py",
   "mimetype": "text/x-python",
   "name": "python",
   "nbconvert_exporter": "python",
   "pygments_lexer": "ipython3",
   "version": "3.10.9"
  }
 },
 "nbformat": 4,
 "nbformat_minor": 5
}
