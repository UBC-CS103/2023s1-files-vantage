{
 "cells": [
  {
   "cell_type": "code",
   "execution_count": 2,
   "metadata": {},
   "outputs": [],
   "source": [
    "from cs103 import *\n",
    "from enum import Enum"
   ]
  },
  {
   "cell_type": "markdown",
   "metadata": {},
   "source": [
    "## \"Standing\" Problem\n",
    "\n",
    "Design a function that takes a standing (SD for \"standing deferred\",\n",
    "AUD for \"audit\", and W for \"withdraw\") and determines whether the\n",
    "student is still working on the course where they earned that\n",
    "standing.\n",
    "\n",
    "**To do this**, we'll need a data definition for a standing."
   ]
  },
  {
   "cell_type": "code",
   "execution_count": 3,
   "metadata": {},
   "outputs": [],
   "source": [
    "Standing = Enum('Standing', ['sd', 'aud', 'w'])\n",
    "# interp. a standing for a UBC course which is either standing deferred\n",
    "#         (sd), audit (aud), or withdraw (w)\n",
    "# examples are redundant for enumerations\n",
    "\n",
    "# template based on: one of (three cases) and atomic distinct (three times)\n",
    "def fn_for_standing(s: Standing) -> ...:\n",
    "    if s == Standing.sd:\n",
    "        return ...\n",
    "    elif s == Standing.aud:\n",
    "        return ...\n",
    "    elif s == Standing.w:\n",
    "        return ...\n",
    "\n"
   ]
  },
  {
   "cell_type": "markdown",
   "metadata": {},
   "source": [
    "Now we can design the function that takes a standing and determines whether the\n",
    "student is still working on the course where they earned that\n",
    "standing."
   ]
  },
  {
   "cell_type": "code",
   "execution_count": 4,
   "metadata": {},
   "outputs": [
    {
     "name": "stdout",
     "output_type": "stream",
     "text": [
      "\u001b[92m3 of 3 tests passed\u001b[0m\n"
     ]
    }
   ],
   "source": [
    "@typecheck\n",
    "def still_working(s: Standing) -> bool:\n",
    "    \"\"\"\n",
    "    return True if the student is still working on the course with \n",
    "    standing s, False otherwise\n",
    "    \"\"\"\n",
    "    #return False  #  stub\n",
    "    # template from Standing\n",
    "    if s == Standing.sd:\n",
    "        return True\n",
    "    elif s == Standing.aud:\n",
    "        return True\n",
    "    elif s == Standing.w:\n",
    "        return False\n",
    "\n",
    "start_testing()\n",
    "expect(still_working(Standing.sd), True)\n",
    "expect(still_working(Standing.aud), True)\n",
    "expect(still_working(Standing.w), False)\n",
    "summary()"
   ]
  },
  {
   "cell_type": "markdown",
   "metadata": {},
   "source": [
    "A single data definition usually gets used for many different functions in your program, but we often only have time for one in class, tutorial, and assignments. Let's do a second design here!\n",
    "\n",
    "**Problem:** Design a function that takes a standing (as above) and returns an English explanation of what the standing means.\n",
    "\n",
    "We already have the data definition, which guides our function design. Indeed, the designed function is very similar to the previous one. Finding where it's *different* may tell you a lot about why examples and templates are useful!"
   ]
  },
  {
   "cell_type": "code",
   "execution_count": 7,
   "metadata": {},
   "outputs": [
    {
     "name": "stdout",
     "output_type": "stream",
     "text": [
      "\u001b[92m3 of 3 tests passed\u001b[0m\n"
     ]
    }
   ],
   "source": [
    "@typecheck\n",
    "def describe_standing(s: Standing) -> str:\n",
    "    \"\"\"\n",
    "    returns an English description of s\n",
    "    \"\"\"\n",
    "    #return \"\"  # INCOMPLETE stub\n",
    "    # template from Standing\n",
    "    if s == Standing.sd:\n",
    "        return \"Standing Deferred: awaiting completion of some additional requirement\"\n",
    "    elif s == Standing.aud:\n",
    "        return \"Auditing: sat in on the course for credit, but not for a grade\"\n",
    "    elif s == Standing.w:\n",
    "        return \"Withdrawn: Withdrew from the course after the add/drop deadline\"\n",
    "\n",
    "start_testing()\n",
    "# We've gone ahead and filled in the test cases already to help move us along a bit!\n",
    "# The HtDD recipe tells us we should have one test for every value in the Standing enumeration!\n",
    "expect(describe_standing(Standing.sd), \"Standing Deferred: awaiting completion of some additional requirement\")\n",
    "expect(describe_standing(Standing.aud), \"Auditing: sat in on the course for credit, but not for a grade\")\n",
    "expect(describe_standing(Standing.w), \"Withdrawn: Withdrew from the course after the add/drop deadline\")\n",
    "summary()"
   ]
  },
  {
   "cell_type": "markdown",
   "metadata": {},
   "source": [
    "## Robotic Wheelchair Problem\n",
    "\n",
    "**Problem:** A robotic wheelchair has a sensor that\n",
    "warns if it gets too close to an object. A reading from the sensor is\n",
    "either a distance in centimeters (that is zero or greater) or an error\n",
    "code indicating that no data is presently available. Design a function\n",
    "to determine if a wheelchair is definitely safely out of range of any\n",
    "object (at least 50cm).\n",
    "\n",
    "As before, we need to design a data definition before we can design the function!"
   ]
  },
  {
   "cell_type": "code",
   "execution_count": 11,
   "metadata": {},
   "outputs": [],
   "source": [
    "from typing import Optional\n",
    "\n",
    "Reading = Optional[float] # in range [0, ...)\n",
    "# interp. a distance in centimetres from an object, or None if no data is available\n",
    "\n",
    "RERROR = None\n",
    "R0 = 0.0\n",
    "R29 = 29.1\n",
    "\n",
    "# template based on: one of (2 cases), atomic distinct, atomic non-distinct\n",
    "def fn_for_reading(r: Reading) -> ...:\n",
    "    if r == None:\n",
    "        return ...\n",
    "    else:\n",
    "        return ...(r)\n",
    "\n"
   ]
  },
  {
   "cell_type": "markdown",
   "metadata": {},
   "source": [
    "Now on to designing the function. Here's the problem statement again:\n",
    "\n",
    "Design a function to determine if a wheelchair is definitely safely out of range of any object (at least 50cm)."
   ]
  },
  {
   "cell_type": "code",
   "execution_count": 13,
   "metadata": {},
   "outputs": [
    {
     "name": "stdout",
     "output_type": "stream",
     "text": [
      "\u001b[92m6 of 6 tests passed\u001b[0m\n"
     ]
    }
   ],
   "source": [
    "@typecheck\n",
    "def is_safe(r: Reading) -> bool:\n",
    "    \"\"\"\n",
    "    return True if a wheelchair with a sensor reading of r is known to be\n",
    "    safely out of range of any object (at least 50cm away)\n",
    "    \"\"\"\n",
    "    #return True #stub\n",
    "    # template from Reading\n",
    "    if r == None:\n",
    "        return False\n",
    "    else:\n",
    "        return r >= 50.0 \n",
    "\n",
    "start_testing()\n",
    "expect(is_safe(None), False)\n",
    "expect(is_safe(0.0), False)\n",
    "expect(is_safe(35.2), False)\n",
    "expect(is_safe(49.9), False)\n",
    "expect(is_safe(50.0), True)\n",
    "expect(is_safe(332.55), True)\n",
    "summary()"
   ]
  },
  {
   "cell_type": "code",
   "execution_count": null,
   "metadata": {},
   "outputs": [],
   "source": []
  }
 ],
 "metadata": {
  "kernelspec": {
   "display_name": "Python 3 (ipykernel)",
   "language": "python",
   "name": "python3"
  },
  "language_info": {
   "codemirror_mode": {
    "name": "ipython",
    "version": 3
   },
   "file_extension": ".py",
   "mimetype": "text/x-python",
   "name": "python",
   "nbconvert_exporter": "python",
   "pygments_lexer": "ipython3",
   "version": "3.10.9"
  }
 },
 "nbformat": 4,
 "nbformat_minor": 2
}
